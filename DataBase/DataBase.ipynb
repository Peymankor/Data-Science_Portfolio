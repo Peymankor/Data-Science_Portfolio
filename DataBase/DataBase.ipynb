{
 "cells": [
  {
   "cell_type": "markdown",
   "metadata": {},
   "source": [
    "# Database Management (CREATE DB, INSERTING, QUERING)\n"
   ]
  },
  {
   "cell_type": "code",
   "execution_count": 114,
   "metadata": {},
   "outputs": [],
   "source": [
    "import os\n",
    "import pandas as pd\n",
    "import matplotlib.pyplot as plt\n",
    "import seaborn as sns\n",
    "import datetime\n",
    "import sqlite3\n",
    "import matplotlib.pyplot as plt\n",
    "import matplotlib.dates as mdates\n",
    "from dateutil import parser\n",
    "from matplotlib import style"
   ]
  },
  {
   "cell_type": "code",
   "execution_count": 136,
   "metadata": {},
   "outputs": [],
   "source": [
    "def barplot(feature, value, title,df ,size=1):\n",
    "    f, ax = plt.subplots(1,1, figsize=(4*size, 8))\n",
    "    g = sns.barplot(df[feature],df[value],palette=\"Set3\")\n",
    "    g.set_title(\"{}\".format(title))\n",
    "    ax.set_xticklabels(ax.get_xticklabels(), rotation = 90)\n",
    "    plt.show"
   ]
  },
  {
   "cell_type": "code",
   "execution_count": 141,
   "metadata": {},
   "outputs": [],
   "source": [
    "def lineplot(feature, value, title, df, size=1):\n",
    "    f, ax = plt.subplots(1, 1, figsize=(4 * size, 4))\n",
    "    g = sns.lineplot(df[feature], df[value], palette='Set3')\n",
    "    g.set_title(\"Number of {}\".format(title))\n",
    "    plt.draw()\n",
    "    ax.set_xticklabels(ax.get_xticklabels(), rotation=90)\n",
    "    plt.show()"
   ]
  },
  {
   "cell_type": "markdown",
   "metadata": {},
   "source": [
    "# Import Data in dataframe format: "
   ]
  },
  {
   "cell_type": "code",
   "execution_count": 115,
   "metadata": {},
   "outputs": [
    {
     "data": {
      "text/html": [
       "<div>\n",
       "<style scoped>\n",
       "    .dataframe tbody tr th:only-of-type {\n",
       "        vertical-align: middle;\n",
       "    }\n",
       "\n",
       "    .dataframe tbody tr th {\n",
       "        vertical-align: top;\n",
       "    }\n",
       "\n",
       "    .dataframe thead th {\n",
       "        text-align: right;\n",
       "    }\n",
       "</style>\n",
       "<table border=\"1\" class=\"dataframe\">\n",
       "  <thead>\n",
       "    <tr style=\"text-align: right;\">\n",
       "      <th></th>\n",
       "      <th>date</th>\n",
       "      <th>part</th>\n",
       "      <th>company</th>\n",
       "      <th>country</th>\n",
       "      <th>city</th>\n",
       "      <th>price</th>\n",
       "      <th>date.1</th>\n",
       "      <th>Price_euro</th>\n",
       "      <th>id</th>\n",
       "    </tr>\n",
       "  </thead>\n",
       "  <tbody>\n",
       "    <tr>\n",
       "      <th>0</th>\n",
       "      <td>2016-01-02 00:01:05</td>\n",
       "      <td>54868-5165</td>\n",
       "      <td>Chatterbridge</td>\n",
       "      <td>Spain</td>\n",
       "      <td>Barcelona</td>\n",
       "      <td>784.79€</td>\n",
       "      <td>2016-01-02 00:01:05</td>\n",
       "      <td>784.79</td>\n",
       "      <td>0</td>\n",
       "    </tr>\n",
       "    <tr>\n",
       "      <th>1</th>\n",
       "      <td>2016-01-02 00:05:26</td>\n",
       "      <td>60505-2867</td>\n",
       "      <td>Lajo</td>\n",
       "      <td>Greece</td>\n",
       "      <td>Thessaloniki</td>\n",
       "      <td>187.99€</td>\n",
       "      <td>2016-01-02 00:05:26</td>\n",
       "      <td>187.99</td>\n",
       "      <td>1</td>\n",
       "    </tr>\n",
       "    <tr>\n",
       "      <th>2</th>\n",
       "      <td>2016-01-02 00:18:30</td>\n",
       "      <td>24385-268</td>\n",
       "      <td>Flipstorm</td>\n",
       "      <td>Greece</td>\n",
       "      <td>Athens</td>\n",
       "      <td>221.73€</td>\n",
       "      <td>2016-01-02 00:18:30</td>\n",
       "      <td>221.73</td>\n",
       "      <td>2</td>\n",
       "    </tr>\n",
       "    <tr>\n",
       "      <th>3</th>\n",
       "      <td>2016-01-02 02:32:30</td>\n",
       "      <td>76117-001</td>\n",
       "      <td>Twitterbeat</td>\n",
       "      <td>France</td>\n",
       "      <td>Annecy</td>\n",
       "      <td>1075.82€</td>\n",
       "      <td>2016-01-02 02:32:30</td>\n",
       "      <td>1075.82</td>\n",
       "      <td>3</td>\n",
       "    </tr>\n",
       "    <tr>\n",
       "      <th>4</th>\n",
       "      <td>2016-01-02 04:51:55</td>\n",
       "      <td>44946-1046</td>\n",
       "      <td>Chatterbridge</td>\n",
       "      <td>Spain</td>\n",
       "      <td>Barcelona</td>\n",
       "      <td>412.55€</td>\n",
       "      <td>2016-01-02 04:51:55</td>\n",
       "      <td>412.55</td>\n",
       "      <td>4</td>\n",
       "    </tr>\n",
       "  </tbody>\n",
       "</table>\n",
       "</div>"
      ],
      "text/plain": [
       "                  date        part        company country          city  \\\n",
       "0  2016-01-02 00:01:05  54868-5165  Chatterbridge   Spain     Barcelona   \n",
       "1  2016-01-02 00:05:26  60505-2867           Lajo  Greece  Thessaloniki   \n",
       "2  2016-01-02 00:18:30   24385-268      Flipstorm  Greece        Athens   \n",
       "3  2016-01-02 02:32:30   76117-001    Twitterbeat  France        Annecy   \n",
       "4  2016-01-02 04:51:55  44946-1046  Chatterbridge   Spain     Barcelona   \n",
       "\n",
       "      price               date.1  Price_euro  id  \n",
       "0   784.79€  2016-01-02 00:01:05      784.79   0  \n",
       "1   187.99€  2016-01-02 00:05:26      187.99   1  \n",
       "2   221.73€  2016-01-02 00:18:30      221.73   2  \n",
       "3  1075.82€  2016-01-02 02:32:30     1075.82   3  \n",
       "4   412.55€  2016-01-02 04:51:55      412.55   4  "
      ]
     },
     "execution_count": 115,
     "metadata": {},
     "output_type": "execute_result"
    }
   ],
   "source": [
    "df = pd.read_csv(\"costumerdata.csv\")\n",
    "\n",
    "df.head()\n"
   ]
  },
  {
   "cell_type": "code",
   "execution_count": 117,
   "metadata": {},
   "outputs": [
    {
     "name": "stdout",
     "output_type": "stream",
     "text": [
      "<class 'pandas.core.frame.DataFrame'>\n",
      "RangeIndex: 20543 entries, 0 to 20542\n",
      "Data columns (total 9 columns):\n",
      " #   Column      Non-Null Count  Dtype  \n",
      "---  ------      --------------  -----  \n",
      " 0   date        20543 non-null  object \n",
      " 1   part        20543 non-null  object \n",
      " 2   company     20543 non-null  object \n",
      " 3   country     20543 non-null  object \n",
      " 4   city        20543 non-null  object \n",
      " 5   price       20543 non-null  object \n",
      " 6   date.1      20543 non-null  object \n",
      " 7   Price_euro  20543 non-null  float64\n",
      " 8   id          20543 non-null  int64  \n",
      "dtypes: float64(1), int64(1), object(7)\n",
      "memory usage: 1.4+ MB\n"
     ]
    }
   ],
   "source": [
    "df.info()\n",
    "\n",
    "df_new = df.drop([\"date.1\", \"price\"], axis=1)"
   ]
  },
  {
   "cell_type": "markdown",
   "metadata": {},
   "source": [
    "# CREATE DB:"
   ]
  },
  {
   "cell_type": "markdown",
   "metadata": {},
   "source": [
    "## Create Connection"
   ]
  },
  {
   "cell_type": "code",
   "execution_count": 118,
   "metadata": {},
   "outputs": [],
   "source": [
    "def create_connection(db_file):\n",
    "\n",
    "    conn = None\n",
    "\n",
    "    try:\n",
    "        conn = sqlite3.connect(db_file)\n",
    "        return conn\n",
    "\n",
    "    except Error as e:\n",
    "        print(e)\n",
    "\n",
    "    return (conn)"
   ]
  },
  {
   "cell_type": "markdown",
   "metadata": {},
   "source": [
    "## Create Table:"
   ]
  },
  {
   "cell_type": "code",
   "execution_count": 119,
   "metadata": {},
   "outputs": [],
   "source": [
    "def create_table(conn, table_sql):\n",
    "\n",
    "    try:\n",
    "        c = conn.cursor()\n",
    "        c.execute(table_sql)\n",
    "    except Error as e:\n",
    "        print(e)"
   ]
  },
  {
   "cell_type": "markdown",
   "metadata": {},
   "source": [
    "## Insert item in clients table:"
   ]
  },
  {
   "cell_type": "code",
   "execution_count": 120,
   "metadata": {},
   "outputs": [],
   "source": [
    "def create_item_client(conn, item):\n",
    "    sql = \"\"\"\n",
    "    \n",
    "    INSERT INTO clients(name,country,city)\n",
    "    VALUES(?,?,?)\"\"\"\n",
    "\n",
    "    c = conn.cursor()\n",
    "    c.execute(sql, item)\n",
    "    return c.lastrowid"
   ]
  },
  {
   "cell_type": "markdown",
   "metadata": {},
   "source": [
    "## Insert item in transaction table:"
   ]
  },
  {
   "cell_type": "code",
   "execution_count": 121,
   "metadata": {},
   "outputs": [],
   "source": [
    "def create_item_transactions(conn, item):\n",
    "    sql = \"\"\"\n",
    "    \n",
    "    INSERT INTO transactions(number,product,amount,date,company)\n",
    "    VALUES(?,?,?,?,?)\"\"\"\n",
    "\n",
    "    c = conn.cursor()\n",
    "    c.execute(sql, item)\n",
    "    return c.lastrowid"
   ]
  },
  {
   "cell_type": "markdown",
   "metadata": {},
   "source": [
    "## Create tables"
   ]
  },
  {
   "cell_type": "code",
   "execution_count": 122,
   "metadata": {},
   "outputs": [],
   "source": [
    "database = \"costumer.db\"\n",
    "\n",
    "conn = create_connection(database)\n",
    "\n",
    "sql_clients = \"\"\" CREATE TABLE clients (name text PRIMARY KEY,\n",
    "                                        country text,\n",
    "                                        city text);\"\"\"\n",
    "\n",
    "sql_transaction = \"\"\" CREATE TABLE transactions (number text PRIMARY KEY,\n",
    "                                                product text,\n",
    "                                                amount double,\n",
    "                                                date date,\n",
    "                                                company text,\n",
    "                                                FOREIGN KEY (company) REFERENCES clients (name))\n",
    "\n",
    "\"\"\"\n",
    "\n",
    "\n",
    "create_table(conn, sql_clients)\n",
    "\n",
    "create_table(conn, sql_transaction)\n",
    "conn.commit()\n",
    "conn.close()"
   ]
  },
  {
   "cell_type": "markdown",
   "metadata": {},
   "source": [
    "## Inserting client items:"
   ]
  },
  {
   "cell_type": "code",
   "execution_count": 123,
   "metadata": {},
   "outputs": [],
   "source": [
    "database = \"costumer.db\"\n",
    "conn = create_connection(database)\n",
    "df_company = df_new.drop_duplicates('company')\n",
    "for index, row in df_company.iterrows():\n",
    "    client_command = (row['company'], row['country'], row['city'])\n",
    "    client_id = create_item_client(conn, client_command)\n",
    "    \n",
    "conn.commit()\n",
    "conn.close()"
   ]
  },
  {
   "cell_type": "markdown",
   "metadata": {},
   "source": [
    "## Inserting transactions items:"
   ]
  },
  {
   "cell_type": "code",
   "execution_count": 125,
   "metadata": {},
   "outputs": [],
   "source": [
    "database = \"costumer.db\"\n",
    "conn = create_connection(database)\n",
    "for index, row in df_new.iterrows():\n",
    "    transaction_command = (row['id'], row['part'], row['Price_euro'],\n",
    "                           row['date'], row['company'])\n",
    "    transaction_id = create_item_transactions(conn, transaction_command)\n",
    "conn.commit()\n",
    "conn.close()"
   ]
  },
  {
   "cell_type": "markdown",
   "metadata": {},
   "source": [
    "## Querying sum sells per company:"
   ]
  },
  {
   "cell_type": "code",
   "execution_count": 126,
   "metadata": {},
   "outputs": [
    {
     "name": "stdout",
     "output_type": "stream",
     "text": [
      "('Thoughtmix', 1626805.1600000015)\n",
      "('Twitterbeat', 1325104.0200000033)\n",
      "('Zooxo', 998668.6800647781)\n",
      "('Shufflebeat', 922924.7199999999)\n",
      "('Chatterbridge', 921110.8999999994)\n",
      "('Ntags', 846252.5499999991)\n",
      "('Brainsphere', 720802.9399999991)\n",
      "('Buzzbean', 713758.4299999992)\n",
      "('Flipstorm', 673246.2099999991)\n",
      "('Wordify', 535510.4807126565)\n",
      "('Yozio', 368655.4100000002)\n",
      "('Roodel', 362089.7599999997)\n",
      "('Eimbee', 295001.94999999984)\n",
      "('Zoonder', 263428.6677016085)\n",
      "('Teklist', 241354.28)\n",
      "('Gabcube', 204489.94999999998)\n",
      "('Voomm', 144799.98)\n",
      "('Avaveo', 126505.0700000001)\n",
      "('Lajo', 122119.52999999997)\n",
      "('Rhycero', 112883.34000000004)\n",
      "('Riffpath', 90550.25000000007)\n",
      "('Realpoint', 85333.36999999995)\n",
      "('Kanoodle', 72615.43307126626)\n",
      "('Bubblemix', 27476.052162117077)\n",
      "('Innojam', 25539.63)\n",
      "('Gevee', 22549.16)\n",
      "('Gabtune', 18359.269999999997)\n",
      "('Tagtune', 6579.640000000001)\n",
      "28\n"
     ]
    }
   ],
   "source": [
    "database = \"costumer.db\"\n",
    "\n",
    "conn = create_connection(database)\n",
    "\n",
    "c = conn.cursor()\n",
    "c.execute(\n",
    "    \"SELECT * FROM (SELECT company, SUM(amount) AS amount FROM transactions GROUP BY company) ORDER BY amount DESC\"\n",
    ")\n",
    "\n",
    "rows = c.fetchall()\n",
    "for row in rows:\n",
    "    print(row)\n",
    "print(len(rows))"
   ]
  },
  {
   "cell_type": "code",
   "execution_count": 138,
   "metadata": {},
   "outputs": [
    {
     "data": {
      "image/png": "[encoded data removed]",
      "text/plain": [
       "<Figure size 1152x576 with 1 Axes>"
      ]
     },
     "metadata": {
      "needs_background": "light"
     },
     "output_type": "display_data"
    }
   ],
   "source": [
    "df_sell_per_comp = pd.DataFrame(rows, columns=[\"Company\", \"Sell\"])\n",
    "barplot('Company', 'Sell', \"Total Sell per Company\",df_sell_per_comp,size=4)"
   ]
  },
  {
   "cell_type": "markdown",
   "metadata": {},
   "source": [
    "## Company Tagtune Purchase per Month"
   ]
  },
  {
   "cell_type": "code",
   "execution_count": 143,
   "metadata": {},
   "outputs": [
    {
     "data": {
      "image/png": "[encoded data removed]",
      "text/plain": [
       "<Figure size 1152x288 with 1 Axes>"
      ]
     },
     "metadata": {
      "needs_background": "light"
     },
     "output_type": "display_data"
    }
   ],
   "source": [
    "database = \"costumer.db\"\n",
    "\n",
    "conn = create_connection(database)\n",
    "\n",
    "c = conn.cursor()\n",
    "c.execute(\n",
    "    \"SELECT month, amount FROM (SELECT strftime('%m', date) as month, amount FROM transactions WHERE company='Tagtune' ORDER BY date ASC) GROUP BY month\"\n",
    ")\n",
    "\n",
    "rows=c.fetchall()\n",
    "sell_per_m_tt = pd.DataFrame(rows,columns=['Month', \"amount\"])\n",
    "\n",
    "lineplot(\"Month\",\"amount\", \"Sell per Month\", sell_per_m_tt,size=4)"
   ]
  },
  {
   "cell_type": "code",
   "execution_count": 145,
   "metadata": {},
   "outputs": [
    {
     "name": "stdout",
     "output_type": "stream",
     "text": [
      "('17133', '49349-471', 833.06, '2018-12-23 00:26:23', 'Yozio')\n",
      "('17134', '51523-002', 731.64, '2018-12-23 01:21:39', 'Yozio')\n",
      "('17149', '48951-4042', 207.71, '2018-12-23 23:11:47', 'Yozio')\n",
      "('17179', '48951-4042', 61.59, '2018-12-25 22:01:58', 'Yozio')\n",
      "4\n"
     ]
    }
   ],
   "source": [
    "database = \"costumer.db\"\n",
    "\n",
    "conn = create_connection(database)\n",
    "\n",
    "\n",
    "c = conn.cursor()\n",
    "c.execute(\n",
    "    \"SELECT * FROM transactions WHERE company='Yozio' AND date>='2018-12-23' AND date<='2018-12-26'\"\n",
    ")\n",
    "\n",
    "rows = c.fetchall()\n",
    "for row in rows:\n",
    "    print(row)\n",
    "print(len(rows))\n",
    "\n",
    "\n"
   ]
  },
  {
   "cell_type": "code",
   "execution_count": 146,
   "metadata": {},
   "outputs": [
    {
     "name": "stdout",
     "output_type": "stream",
     "text": [
      "('17265', '43419-018', 139.56, '2019-05-14 22:48:39', 'Flipstorm')\n",
      "('17264', '49288-0285', 1051.08, '2019-02-21 20:05:00', 'Flipstorm')\n",
      "('17263', '52343-025', 686.1, '2018-12-31 21:38:02', 'Brainsphere')\n",
      "('17262', '49999-737', 828.37, '2018-12-31 21:24:17', 'Thoughtmix')\n",
      "('17261', '21695-267', 606.37, '2018-12-31 20:48:14', 'Roodel')\n",
      "('17260', '68462-565', 882.52, '2018-12-31 19:56:53', 'Shufflebeat')\n",
      "('17259', '98132-889', 179.88, '2018-12-31 18:24:51', 'Yozio')\n",
      "('17258', '36987-1697', 1017.44, '2018-12-31 16:46:06', 'Chatterbridge')\n",
      "('17257', '36800-952', 286.23, '2018-12-31 16:27:34', 'Gabcube')\n",
      "('17256', '13537-259', 762.29, '2018-12-31 14:17:24', 'Thoughtmix')\n",
      "10\n"
     ]
    }
   ],
   "source": [
    "database = \"costumer.db\"\n",
    "\n",
    "conn = create_connection(database)\n",
    "\n",
    "\n",
    "\n",
    "c = conn.cursor()\n",
    "c.execute(\"SELECT * FROM transactions ORDER BY date DESC LIMIT 10\")\n",
    "\n",
    "rows = c.fetchall()\n",
    "for row in rows:\n",
    "    print(row)\n",
    "print(len(rows))"
   ]
  },
  {
   "cell_type": "code",
   "execution_count": 147,
   "metadata": {},
   "outputs": [
    {
     "name": "stdout",
     "output_type": "stream",
     "text": [
      "('Avaveo', '2016-01-03', 1029.92)\n",
      "('Avaveo', '2016-01-06', 687.63)\n",
      "('Avaveo', '2016-01-18', 358.46)\n",
      "('Avaveo', '2016-01-19', 474.35)\n",
      "('Avaveo', '2016-02-01', 138.41)\n",
      "('Avaveo', '2016-02-11', 732.99)\n",
      "('Avaveo', '2016-02-20', 750.87)\n",
      "('Avaveo', '2016-03-07', 383.81)\n",
      "('Avaveo', '2016-03-08', 878.69)\n",
      "('Avaveo', '2016-03-18', 499.3)\n",
      "11681\n"
     ]
    }
   ],
   "source": [
    "database = \"costumer.db\"\n",
    "\n",
    "conn = create_connection(database)\n",
    "\n",
    "c = conn.cursor()\n",
    "c.execute(\n",
    "    \"SELECT company,DATE(date), SUM(amount) FROM transactions GROUP BY company,DATE(date)\"\n",
    ")\n",
    "\n",
    "rows = c.fetchall()\n",
    "for row in rows[0:10]:\n",
    "    print(row)\n",
    "print(len(rows))\n"
   ]
  },
  {
   "cell_type": "code",
   "execution_count": 113,
   "metadata": {},
   "outputs": [],
   "source": [
    "conn.close()"
   ]
  }
 ],
 "metadata": {
  "kernelspec": {
   "display_name": "Python 3",
   "language": "python",
   "name": "python3"
  },
  "language_info": {
   "codemirror_mode": {
    "name": "ipython",
    "version": 3
   },
   "file_extension": ".py",
   "mimetype": "text/x-python",
   "name": "python",
   "nbconvert_exporter": "python",
   "pygments_lexer": "ipython3",
   "version": "3.7.4"
  },
  "toc": {
   "base_numbering": 1,
   "nav_menu": {},
   "number_sections": true,
   "sideBar": true,
   "skip_h1_title": false,
   "title_cell": "Table of Contents",
   "title_sidebar": "Contents",
   "toc_cell": false,
   "toc_position": {},
   "toc_section_display": true,
   "toc_window_display": false
  }
 },
 "nbformat": 4,
 "nbformat_minor": 4
}
