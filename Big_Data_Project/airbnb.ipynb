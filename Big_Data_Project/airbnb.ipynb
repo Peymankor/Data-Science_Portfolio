{
 "cells": [
  {
   "cell_type": "markdown",
   "metadata": {},
   "source": [
    "# Airbnb Big Data Project:"
   ]
  },
  {
   "cell_type": "markdown",
   "metadata": {},
   "source": [
    "## Introduction:\n",
    "\n",
    "[Airbnb](http://airbnb.com) is an online marketplace for arranging or offering lodgings. In this project you will use Spark to analyze data obtained from the Airbnb website. The purpose of the analysis is to extract information about trends and patterns from the data.\n",
    "\n",
    "The project has two parts.\n",
    "\n",
    "# Objectives:\n",
    "\n",
    "## Part 1: Loading, describing and preparing the data\n",
    "\n",
    "## Par 2: Analysis\n",
    "\n",
    "## Review Analysis\n"
   ]
  },
  {
   "cell_type": "markdown",
   "metadata": {},
   "source": [
    "### Create Spark session and define imports"
   ]
  },
  {
   "cell_type": "code",
   "execution_count": 3,
   "metadata": {},
   "outputs": [],
   "source": [
    "from pyspark.sql import *\n",
    "from pyspark.sql import functions as f\n",
    "from pyspark.sql.types import *\n",
    "from dateutil.parser import parse\n",
    "from pyspark.sql.functions import to_date\n",
    "from pyspark.sql.functions import unix_timestamp\n",
    "from pyspark.sql.functions import from_unixtime\n",
    "from pyspark.sql.types import DateType\n",
    "from pyspark.sql.types import DoubleType\n",
    "import numpy as np\n",
    "import pandas as pd\n",
    "import matplotlib.pyplot as plt\n",
    "import seaborn as sb\n",
    "from pyspark.sql.functions import col, size, asc, desc\n",
    "from pyspark.sql.functions import explode\n",
    "from pyspark.sql.functions import udf\n",
    "\n",
    "\n",
    "spark = SparkSession.builder.appName(\"Project Three\").getOrCreate()"
   ]
  },
  {
   "cell_type": "markdown",
   "metadata": {},
   "source": [
    "# Part 1: Loading, describing and preparing the data\n",
    "The data comes in two files. Start by downloading the files and putting them in your `data/` folder.\n",
    "\n",
    "- [Listings](https://files.dtu.dk/u/siPzAasj8w2gI_ME/listings.csv?l) (5 GB)\n",
    "- [Reviews](https://files.dtu.dk/u/k3oaPYp6GjKBeho4/reviews.csv?l) (9.5 GB)"
   ]
  },
  {
   "cell_type": "markdown",
   "metadata": {},
   "source": [
    "### Load the data\n",
    "The data has multiline rows (rows that span multiple lines in the file). To correctly parse these you should use the `multiline` option and set the `escape` character to be `\"`."
   ]
  },
  {
   "cell_type": "code",
   "execution_count": 4,
   "metadata": {},
   "outputs": [],
   "source": [
    "#Loading Data \n",
    "df = spark.read.option('header', True).option('inferSchema', True).option('multiline', True).option('escape', '\"').csv('listings.csv')"
   ]
  },
  {
   "cell_type": "code",
   "execution_count": 6,
   "metadata": {},
   "outputs": [
    {
     "name": "stdout",
     "output_type": "stream",
     "text": [
      "+---------+\n",
      "|    price|\n",
      "+---------+\n",
      "|$3,209.00|\n",
      "|  $597.00|\n",
      "|$1,106.00|\n",
      "|  $969.00|\n",
      "|$1,301.00|\n",
      "|$1,663.00|\n",
      "|  $401.00|\n",
      "|  $499.00|\n",
      "|  $861.00|\n",
      "|$1,370.00|\n",
      "+---------+\n",
      "only showing top 10 rows\n",
      "\n"
     ]
    }
   ],
   "source": [
    "df.select('price').show(10)"
   ]
  },
  {
   "cell_type": "code",
   "execution_count": 117,
   "metadata": {},
   "outputs": [],
   "source": [
    "dftry = df\n",
    "dftry1 = df"
   ]
  },
  {
   "cell_type": "code",
   "execution_count": 204,
   "metadata": {},
   "outputs": [
    {
     "name": "stdout",
     "output_type": "stream",
     "text": [
      "number of rows:1330480\n",
      "number of columns:106\n"
     ]
    }
   ],
   "source": [
    "#Data description\n",
    "#Checking Attributes and Rows\n",
    "print('number of rows:'+ str(df.count()))\n",
    "print('number of columns:'+ str(len(df.columns)))\n"
   ]
  },
  {
   "cell_type": "code",
   "execution_count": 205,
   "metadata": {},
   "outputs": [
    {
     "name": "stdout",
     "output_type": "stream",
     "text": [
      "root\n",
      " |-- id: string (nullable = true)\n",
      " |-- listing_url: string (nullable = true)\n",
      " |-- scrape_id: string (nullable = true)\n",
      " |-- last_scraped: string (nullable = true)\n",
      " |-- name: string (nullable = true)\n",
      " |-- summary: string (nullable = true)\n",
      " |-- space: string (nullable = true)\n",
      " |-- description: string (nullable = true)\n",
      " |-- experiences_offered: string (nullable = true)\n",
      " |-- neighborhood_overview: string (nullable = true)\n",
      " |-- notes: string (nullable = true)\n",
      " |-- transit: string (nullable = true)\n",
      " |-- access: string (nullable = true)\n",
      " |-- interaction: string (nullable = true)\n",
      " |-- house_rules: string (nullable = true)\n",
      " |-- thumbnail_url: string (nullable = true)\n",
      " |-- medium_url: string (nullable = true)\n",
      " |-- picture_url: string (nullable = true)\n",
      " |-- xl_picture_url: string (nullable = true)\n",
      " |-- host_id: string (nullable = true)\n",
      " |-- host_url: string (nullable = true)\n",
      " |-- host_name: string (nullable = true)\n",
      " |-- host_since: string (nullable = true)\n",
      " |-- host_location: string (nullable = true)\n",
      " |-- host_about: string (nullable = true)\n",
      " |-- host_response_time: string (nullable = true)\n",
      " |-- host_response_rate: string (nullable = true)\n",
      " |-- host_acceptance_rate: string (nullable = true)\n",
      " |-- host_is_superhost: string (nullable = true)\n",
      " |-- host_thumbnail_url: string (nullable = true)\n",
      " |-- host_picture_url: string (nullable = true)\n",
      " |-- host_neighbourhood: string (nullable = true)\n",
      " |-- host_listings_count: string (nullable = true)\n",
      " |-- host_total_listings_count: string (nullable = true)\n",
      " |-- host_verifications: string (nullable = true)\n",
      " |-- host_has_profile_pic: string (nullable = true)\n",
      " |-- host_identity_verified: string (nullable = true)\n",
      " |-- street: string (nullable = true)\n",
      " |-- neighbourhood: string (nullable = true)\n",
      " |-- neighbourhood_cleansed: string (nullable = true)\n",
      " |-- neighbourhood_group_cleansed: string (nullable = true)\n",
      " |-- city: string (nullable = true)\n",
      " |-- state: string (nullable = true)\n",
      " |-- zipcode: string (nullable = true)\n",
      " |-- market: string (nullable = true)\n",
      " |-- smart_location: string (nullable = true)\n",
      " |-- country_code: string (nullable = true)\n",
      " |-- country: string (nullable = true)\n",
      " |-- latitude: string (nullable = true)\n",
      " |-- longitude: string (nullable = true)\n",
      " |-- is_location_exact: string (nullable = true)\n",
      " |-- property_type: string (nullable = true)\n",
      " |-- room_type: string (nullable = true)\n",
      " |-- accommodates: string (nullable = true)\n",
      " |-- bathrooms: string (nullable = true)\n",
      " |-- bedrooms: string (nullable = true)\n",
      " |-- beds: string (nullable = true)\n",
      " |-- bed_type: string (nullable = true)\n",
      " |-- amenities: string (nullable = true)\n",
      " |-- square_feet: string (nullable = true)\n",
      " |-- price: string (nullable = true)\n",
      " |-- weekly_price: string (nullable = true)\n",
      " |-- monthly_price: string (nullable = true)\n",
      " |-- security_deposit: string (nullable = true)\n",
      " |-- cleaning_fee: string (nullable = true)\n",
      " |-- guests_included: string (nullable = true)\n",
      " |-- extra_people: string (nullable = true)\n",
      " |-- minimum_nights: string (nullable = true)\n",
      " |-- maximum_nights: string (nullable = true)\n",
      " |-- minimum_minimum_nights: string (nullable = true)\n",
      " |-- maximum_minimum_nights: string (nullable = true)\n",
      " |-- minimum_maximum_nights: string (nullable = true)\n",
      " |-- maximum_maximum_nights: string (nullable = true)\n",
      " |-- minimum_nights_avg_ntm: string (nullable = true)\n",
      " |-- maximum_nights_avg_ntm: string (nullable = true)\n",
      " |-- calendar_updated: string (nullable = true)\n",
      " |-- has_availability: string (nullable = true)\n",
      " |-- availability_30: string (nullable = true)\n",
      " |-- availability_60: string (nullable = true)\n",
      " |-- availability_90: string (nullable = true)\n",
      " |-- availability_365: string (nullable = true)\n",
      " |-- calendar_last_scraped: string (nullable = true)\n",
      " |-- number_of_reviews: string (nullable = true)\n",
      " |-- number_of_reviews_ltm: string (nullable = true)\n",
      " |-- first_review: string (nullable = true)\n",
      " |-- last_review: string (nullable = true)\n",
      " |-- review_scores_rating: string (nullable = true)\n",
      " |-- review_scores_accuracy: string (nullable = true)\n",
      " |-- review_scores_cleanliness: string (nullable = true)\n",
      " |-- review_scores_checkin: string (nullable = true)\n",
      " |-- review_scores_communication: string (nullable = true)\n",
      " |-- review_scores_location: string (nullable = true)\n",
      " |-- review_scores_value: string (nullable = true)\n",
      " |-- requires_license: string (nullable = true)\n",
      " |-- license: string (nullable = true)\n",
      " |-- jurisdiction_names: string (nullable = true)\n",
      " |-- instant_bookable: string (nullable = true)\n",
      " |-- is_business_travel_ready: string (nullable = true)\n",
      " |-- cancellation_policy: string (nullable = true)\n",
      " |-- require_guest_profile_picture: string (nullable = true)\n",
      " |-- require_guest_phone_verification: string (nullable = true)\n",
      " |-- calculated_host_listings_count: string (nullable = true)\n",
      " |-- calculated_host_listings_count_entire_homes: string (nullable = true)\n",
      " |-- calculated_host_listings_count_private_rooms: string (nullable = true)\n",
      " |-- calculated_host_listings_count_shared_rooms: string (nullable = true)\n",
      " |-- reviews_per_month: string (nullable = true)\n",
      "\n"
     ]
    }
   ],
   "source": [
    "df.printSchema()"
   ]
  },
  {
   "cell_type": "code",
   "execution_count": 1,
   "metadata": {},
   "outputs": [
    {
     "ename": "NameError",
     "evalue": "name 'df' is not defined",
     "output_type": "error",
     "traceback": [
      "\u001b[1;31m---------------------------------------------------------------------------\u001b[0m",
      "\u001b[1;31mNameError\u001b[0m                                 Traceback (most recent call last)",
      "\u001b[1;32m<ipython-input-1-4ab5edd3d44b>\u001b[0m in \u001b[0;36m<module>\u001b[1;34m\u001b[0m\n\u001b[0;32m      1\u001b[0m \u001b[1;31m#Column names of the dataframe\u001b[0m\u001b[1;33m\u001b[0m\u001b[1;33m\u001b[0m\u001b[1;33m\u001b[0m\u001b[0m\n\u001b[1;32m----> 2\u001b[1;33m \u001b[0mdf\u001b[0m\u001b[1;33m.\u001b[0m\u001b[0mschema\u001b[0m\u001b[1;33m.\u001b[0m\u001b[0mnames\u001b[0m\u001b[1;33m.\u001b[0m\u001b[0mhead\u001b[0m\u001b[1;33m(\u001b[0m\u001b[1;33m)\u001b[0m\u001b[1;33m\u001b[0m\u001b[1;33m\u001b[0m\u001b[0m\n\u001b[0m",
      "\u001b[1;31mNameError\u001b[0m: name 'df' is not defined"
     ]
    }
   ],
   "source": [
    "#Column names of the dataframe \n",
    "df.schema.names.head()"
   ]
  },
  {
   "cell_type": "markdown",
   "metadata": {},
   "source": [
    "The data contains 1330480 oservations and 106 attributes. From the output of the print.Schema, it cab be observed that data types are all in string. However, due to the analysis required, we have to change host_since datatype from string to date. Besides the host_since, price, review_scores_rating and host_total_listings_count datatype are changed from string to float as it can seen below.  \n",
    "\n",
    "However, it can be seen that the price attribute have a dollar sign and must be removed. If the dollar sign sign is not remove and the datatype is converted to float, it will render the values of the price column to be null"
   ]
  },
  {
   "cell_type": "code",
   "execution_count": 258,
   "metadata": {},
   "outputs": [],
   "source": [
    "#Removing the dollar sign in the price attribute \n",
    "\n",
    "charReplace=udf(lambda x: x.replace('$',''))\n",
    "\n",
    "df=df.withColumn('price',charReplace('price'))"
   ]
  },
  {
   "cell_type": "code",
   "execution_count": 259,
   "metadata": {},
   "outputs": [],
   "source": [
    "#Changing Data Types\n",
    "dftry1= df.withColumn(\"host_since\",df['host_since'].cast(DateType()))\n",
    "dftry2 = dftry1.withColumn(\"price\", df['price'].cast(FloatType()))\n",
    "dftry3 = dftry2.withColumn(\"review_scores_rating\", df['review_scores_rating'].cast(FloatType()))\n",
    "df0 = dftry3.withColumn(\"host_total_listings_count\", df['host_total_listings_count'].cast(FloatType()))\n",
    "\n",
    "\n"
   ]
  },
  {
   "cell_type": "code",
   "execution_count": 260,
   "metadata": {},
   "outputs": [
    {
     "name": "stdout",
     "output_type": "stream",
     "text": [
      "+--------+\n",
      "|   price|\n",
      "+--------+\n",
      "|1,272.00|\n",
      "|1,203.00|\n",
      "|3,209.00|\n",
      "|  597.00|\n",
      "|  734.00|\n",
      "|  665.00|\n",
      "|  890.00|\n",
      "|  597.00|\n",
      "|  558.00|\n",
      "|  196.00|\n",
      "+--------+\n",
      "only showing top 10 rows\n",
      "\n"
     ]
    }
   ],
   "source": [
    "df.select('price').show(10)"
   ]
  },
  {
   "cell_type": "code",
   "execution_count": 261,
   "metadata": {},
   "outputs": [
    {
     "name": "stdout",
     "output_type": "stream",
     "text": [
      "root\n",
      " |-- id: string (nullable = true)\n",
      " |-- listing_url: string (nullable = true)\n",
      " |-- scrape_id: string (nullable = true)\n",
      " |-- last_scraped: string (nullable = true)\n",
      " |-- name: string (nullable = true)\n",
      " |-- summary: string (nullable = true)\n",
      " |-- space: string (nullable = true)\n",
      " |-- description: string (nullable = true)\n",
      " |-- experiences_offered: string (nullable = true)\n",
      " |-- neighborhood_overview: string (nullable = true)\n",
      " |-- notes: string (nullable = true)\n",
      " |-- transit: string (nullable = true)\n",
      " |-- access: string (nullable = true)\n",
      " |-- interaction: string (nullable = true)\n",
      " |-- house_rules: string (nullable = true)\n",
      " |-- thumbnail_url: string (nullable = true)\n",
      " |-- medium_url: string (nullable = true)\n",
      " |-- picture_url: string (nullable = true)\n",
      " |-- xl_picture_url: string (nullable = true)\n",
      " |-- host_id: string (nullable = true)\n",
      " |-- host_url: string (nullable = true)\n",
      " |-- host_name: string (nullable = true)\n",
      " |-- host_since: date (nullable = true)\n",
      " |-- host_location: string (nullable = true)\n",
      " |-- host_about: string (nullable = true)\n",
      " |-- host_response_time: string (nullable = true)\n",
      " |-- host_response_rate: string (nullable = true)\n",
      " |-- host_acceptance_rate: string (nullable = true)\n",
      " |-- host_is_superhost: string (nullable = true)\n",
      " |-- host_thumbnail_url: string (nullable = true)\n",
      " |-- host_picture_url: string (nullable = true)\n",
      " |-- host_neighbourhood: string (nullable = true)\n",
      " |-- host_listings_count: string (nullable = true)\n",
      " |-- host_total_listings_count: float (nullable = true)\n",
      " |-- host_verifications: string (nullable = true)\n",
      " |-- host_has_profile_pic: string (nullable = true)\n",
      " |-- host_identity_verified: string (nullable = true)\n",
      " |-- street: string (nullable = true)\n",
      " |-- neighbourhood: string (nullable = true)\n",
      " |-- neighbourhood_cleansed: string (nullable = true)\n",
      " |-- neighbourhood_group_cleansed: string (nullable = true)\n",
      " |-- city: string (nullable = true)\n",
      " |-- state: string (nullable = true)\n",
      " |-- zipcode: string (nullable = true)\n",
      " |-- market: string (nullable = true)\n",
      " |-- smart_location: string (nullable = true)\n",
      " |-- country_code: string (nullable = true)\n",
      " |-- country: string (nullable = true)\n",
      " |-- latitude: string (nullable = true)\n",
      " |-- longitude: string (nullable = true)\n",
      " |-- is_location_exact: string (nullable = true)\n",
      " |-- property_type: string (nullable = true)\n",
      " |-- room_type: string (nullable = true)\n",
      " |-- accommodates: string (nullable = true)\n",
      " |-- bathrooms: string (nullable = true)\n",
      " |-- bedrooms: string (nullable = true)\n",
      " |-- beds: string (nullable = true)\n",
      " |-- bed_type: string (nullable = true)\n",
      " |-- amenities: string (nullable = true)\n",
      " |-- square_feet: string (nullable = true)\n",
      " |-- price: float (nullable = true)\n",
      " |-- weekly_price: string (nullable = true)\n",
      " |-- monthly_price: string (nullable = true)\n",
      " |-- security_deposit: string (nullable = true)\n",
      " |-- cleaning_fee: string (nullable = true)\n",
      " |-- guests_included: string (nullable = true)\n",
      " |-- extra_people: string (nullable = true)\n",
      " |-- minimum_nights: string (nullable = true)\n",
      " |-- maximum_nights: string (nullable = true)\n",
      " |-- minimum_minimum_nights: string (nullable = true)\n",
      " |-- maximum_minimum_nights: string (nullable = true)\n",
      " |-- minimum_maximum_nights: string (nullable = true)\n",
      " |-- maximum_maximum_nights: string (nullable = true)\n",
      " |-- minimum_nights_avg_ntm: string (nullable = true)\n",
      " |-- maximum_nights_avg_ntm: string (nullable = true)\n",
      " |-- calendar_updated: string (nullable = true)\n",
      " |-- has_availability: string (nullable = true)\n",
      " |-- availability_30: string (nullable = true)\n",
      " |-- availability_60: string (nullable = true)\n",
      " |-- availability_90: string (nullable = true)\n",
      " |-- availability_365: string (nullable = true)\n",
      " |-- calendar_last_scraped: string (nullable = true)\n",
      " |-- number_of_reviews: string (nullable = true)\n",
      " |-- number_of_reviews_ltm: string (nullable = true)\n",
      " |-- first_review: string (nullable = true)\n",
      " |-- last_review: string (nullable = true)\n",
      " |-- review_scores_rating: float (nullable = true)\n",
      " |-- review_scores_accuracy: string (nullable = true)\n",
      " |-- review_scores_cleanliness: string (nullable = true)\n",
      " |-- review_scores_checkin: string (nullable = true)\n",
      " |-- review_scores_communication: string (nullable = true)\n",
      " |-- review_scores_location: string (nullable = true)\n",
      " |-- review_scores_value: string (nullable = true)\n",
      " |-- requires_license: string (nullable = true)\n",
      " |-- license: string (nullable = true)\n",
      " |-- jurisdiction_names: string (nullable = true)\n",
      " |-- instant_bookable: string (nullable = true)\n",
      " |-- is_business_travel_ready: string (nullable = true)\n",
      " |-- cancellation_policy: string (nullable = true)\n",
      " |-- require_guest_profile_picture: string (nullable = true)\n",
      " |-- require_guest_phone_verification: string (nullable = true)\n",
      " |-- calculated_host_listings_count: string (nullable = true)\n",
      " |-- calculated_host_listings_count_entire_homes: string (nullable = true)\n",
      " |-- calculated_host_listings_count_private_rooms: string (nullable = true)\n",
      " |-- calculated_host_listings_count_shared_rooms: string (nullable = true)\n",
      " |-- reviews_per_month: string (nullable = true)\n",
      "\n"
     ]
    }
   ],
   "source": [
    "df0.printSchema()"
   ]
  },
  {
   "cell_type": "markdown",
   "metadata": {},
   "source": [
    "By inspection, it can seen that the datatype of the attributes of interest have been changed to the desired data type. "
   ]
  },
  {
   "cell_type": "code",
   "execution_count": 269,
   "metadata": {},
   "outputs": [],
   "source": [
    "#Staging data for referencing\n",
    "df1 = df0.select('city', 'host_total_listings_count', 'property_type','neighbourhood','review_scores_rating','host_since','price')"
   ]
  },
  {
   "cell_type": "code",
   "execution_count": 270,
   "metadata": {},
   "outputs": [
    {
     "name": "stdout",
     "output_type": "stream",
     "text": [
      "root\n",
      " |-- city: string (nullable = true)\n",
      " |-- host_total_listings_count: float (nullable = true)\n",
      " |-- property_type: string (nullable = true)\n",
      " |-- neighbourhood: string (nullable = true)\n",
      " |-- review_scores_rating: float (nullable = true)\n",
      " |-- host_since: date (nullable = true)\n",
      " |-- price: float (nullable = true)\n",
      "\n"
     ]
    }
   ],
   "source": [
    "df1.printSchema()"
   ]
  },
  {
   "cell_type": "code",
   "execution_count": null,
   "metadata": {},
   "outputs": [],
   "source": []
  },
  {
   "cell_type": "code",
   "execution_count": 271,
   "metadata": {},
   "outputs": [
    {
     "name": "stdout",
     "output_type": "stream",
     "text": [
      "+---------+-------------------------+-----------------+-------------+--------------------+----------+-----+\n",
      "|     city|host_total_listings_count|    property_type|neighbourhood|review_scores_rating|host_since|price|\n",
      "+---------+-------------------------+-----------------+-------------+--------------------+----------+-----+\n",
      "|Stockholm|                      1.0|        Apartment|    Södermalm|                97.0|2011-06-15| null|\n",
      "|Stockholm|                      2.0|            House|    Skarpnäck|                null|2011-06-26| null|\n",
      "|Stockholm|                      1.0|        Apartment|    Södermalm|                94.0|2011-06-27| null|\n",
      "|Stockholm|                      2.0|        Apartment|    Södermalm|                97.0|2011-07-06|597.0|\n",
      "|Stockholm|                      1.0|        Apartment|    Södermalm|                93.0|2011-07-13|734.0|\n",
      "|Stockholm|                      1.0|Bed and breakfast|    Södermalm|                98.0|2011-08-26|665.0|\n",
      "|Stockholm|                      1.0|        Apartment|     Norrmalm|                null|2011-09-10|890.0|\n",
      "|Stockholm|                      1.0|        Apartment|  Kungsholmen|                93.0|2011-02-27|597.0|\n",
      "|Stockholm|                      2.0|        Apartment|    Södermalm|                97.0|2011-07-06|558.0|\n",
      "|Stockholm|                      3.0|        Townhouse|Rinkeby-Kista|                89.0|2011-11-02|196.0|\n",
      "+---------+-------------------------+-----------------+-------------+--------------------+----------+-----+\n",
      "only showing top 10 rows\n",
      "\n"
     ]
    }
   ],
   "source": [
    "df1.show(10)"
   ]
  },
  {
   "cell_type": "markdown",
   "metadata": {},
   "source": [
    "Part Two\n"
   ]
  },
  {
   "cell_type": "code",
   "execution_count": 274,
   "metadata": {},
   "outputs": [],
   "source": [
    "df_listings_neighhood_per_city= df1.groupBy('city').agg(f.sum('host_total_listings_count'))"
   ]
  },
  {
   "cell_type": "code",
   "execution_count": 275,
   "metadata": {},
   "outputs": [
    {
     "name": "stdout",
     "output_type": "stream",
     "text": [
      "+--------------------+------------------------------+\n",
      "|                city|sum(host_total_listings_count)|\n",
      "+--------------------+------------------------------+\n",
      "|           Cape town|                          20.0|\n",
      "|Plumstead, Cape town|                           1.0|\n",
      "|     Río de janeiro |                           3.0|\n",
      "|Saint-Médard-en-J...|                         309.0|\n",
      "|             LYON 02|                          60.0|\n",
      "|Paris-15E-Arrondi...|                         338.0|\n",
      "|               75007|                          11.0|\n",
      "|             Antwerp|                        7887.0|\n",
      "| WATERMAEL BOITSFORT|                           1.0|\n",
      "|             beyazıd|                           4.0|\n",
      "|         kagirthâne |                           1.0|\n",
      "|          Seyit Ömer|                           1.0|\n",
      "|              Sopela|                          83.0|\n",
      "|       Quejana-Ayala|                           1.0|\n",
      "|            Lantaron|                           4.0|\n",
      "|           Aperregui|                           1.0|\n",
      "|            Cadaqués|                        8412.0|\n",
      "|         Palau-Sator|                          12.0|\n",
      "|Santa Cristina d'...|                           2.0|\n",
      "|  Cornellá del Terri|                          15.0|\n",
      "|             Galilea|                          34.0|\n",
      "|           Cala d´Or|                         201.0|\n",
      "| Son Serra De Marina|                        8678.0|\n",
      "|            ALCÚDIA |                         372.0|\n",
      "| Torrent de Son Vent|                           1.0|\n",
      "|      Brunswick West|                         366.0|\n",
      "|           Essendon |                           3.0|\n",
      "|Fitzroy, Victoria...|                           1.0|\n",
      "|           Dockland |                           1.0|\n",
      "|               Lorne|                       29927.0|\n",
      "|    Kellyville Ridge|                          50.0|\n",
      "|Parramatta City C...|                           1.0|\n",
      "|          Leppington|                           4.0|\n",
      "|             Lismore|                         141.0|\n",
      "|              Akaroa|                           6.0|\n",
      "|           Hazelmere|                           6.0|\n",
      "|       Hamilton Hill|                         149.0|\n",
      "|             Albany |                           2.0|\n",
      "|       Watermans Bay|                          13.0|\n",
      "|              Nickol|                           1.0|\n",
      "|             Coondle|                           1.0|\n",
      "|         • Busselton|                           1.0|\n",
      "|             Palermo|                       95504.0|\n",
      "| Núñez, Buenos Aires|                          33.0|\n",
      "|Povoa de Varzim -...|                           1.0|\n",
      "|              Raheny|                          33.0|\n",
      "|              Geneve|                           7.0|\n",
      "|             Edogawa|                         117.0|\n",
      "| Praha 7, Holešovice|                           1.0|\n",
      "|Col. Anáhuac I, M...|                           2.0|\n",
      "|Mexico City    CO...|                           2.0|\n",
      "|        Atenor Salas|                         180.0|\n",
      "|              Tuglie|                        8757.0|\n",
      "|             Capurso|                          22.0|\n",
      "|Santa Caterina di...|                           3.0|\n",
      "|          Cerfignano|                          30.0|\n",
      "|    Salice Salentino|                          52.0|\n",
      "|Alberobello local...|                           2.0|\n",
      "|          Casa Santa|                         223.0|\n",
      "|             Pennisi|                          43.0|\n",
      "|              Piccio|                         585.0|\n",
      "|            Italiana|                           2.0|\n",
      "|             Gallina|                         386.0|\n",
      "|           Spadafora|                          39.0|\n",
      "|castellammare del...|                           1.0|\n",
      "|              Sutera|                           1.0|\n",
      "| Vittoria -Scoglitti|                           1.0|\n",
      "|             Paterna|                           3.0|\n",
      "|             Rinella|                         130.0|\n",
      "|   Villaggio Peruzzo|                          42.0|\n",
      "|        Itala Marina|                           5.0|\n",
      "|              Galice|                         991.0|\n",
      "|           SCICLI   |                           4.0|\n",
      "|Fontane Bianche S...|                           2.0|\n",
      "|      Roma, Aventino|                           2.0|\n",
      "|            Reggetto|                           1.0|\n",
      "|             Rødovre|                          27.0|\n",
      "|                   K|                          15.0|\n",
      "|             Hanover|                           1.0|\n",
      "|    North Saint Paul|                          24.0|\n",
      "|        Belle Plaine|                           4.0|\n",
      "|            La Jolla|                          10.0|\n",
      "|      Rowland Height|                           4.0|\n",
      "|           \n",
      "Miramar |                           1.0|\n",
      "|        Sandy Valley|                           6.0|\n",
      "|             Kilauea|                        1311.0|\n",
      "|            FLushing|                           6.0|\n",
      "|         Agia Galini|                         594.0|\n",
      "|           Gra Ligia|                           3.0|\n",
      "|              Kreta |                           2.0|\n",
      "|     Marathi, Chania|                           5.0|\n",
      "|        Thessaloniki|                       13685.0|\n",
      "|               tinos|                           3.0|\n",
      "|             Salakos|                        1565.0|\n",
      "|         πλατυ γιαλο|                           4.0|\n",
      "|              Volada|                           5.0|\n",
      "|           Ios Chora|                           4.0|\n",
      "|ΠΑΧΑΙΝΑ, ΜΗΛΟΣ, Κ...|                           1.0|\n",
      "|         Καλό Αμπέλι|                           2.0|\n",
      "|          Tarampados|                           2.0|\n",
      "+--------------------+------------------------------+\n",
      "only showing top 100 rows\n",
      "\n"
     ]
    }
   ],
   "source": [
    "df_listings_neighhood_per_city.show(100)"
   ]
  },
  {
   "cell_type": "code",
   "execution_count": 278,
   "metadata": {},
   "outputs": [],
   "source": [
    "df_selected_city = df1.filter(f.col( 'city') == 'Stockholm') "
   ]
  },
  {
   "cell_type": "code",
   "execution_count": 279,
   "metadata": {},
   "outputs": [
    {
     "name": "stdout",
     "output_type": "stream",
     "text": [
      "+---------+-------------------------+-----------------+-------------+--------------------+----------+-----+\n",
      "|     city|host_total_listings_count|    property_type|neighbourhood|review_scores_rating|host_since|price|\n",
      "+---------+-------------------------+-----------------+-------------+--------------------+----------+-----+\n",
      "|Stockholm|                      1.0|        Apartment|    Södermalm|                97.0|2011-06-15| null|\n",
      "|Stockholm|                      2.0|            House|    Skarpnäck|                null|2011-06-26| null|\n",
      "|Stockholm|                      1.0|        Apartment|    Södermalm|                94.0|2011-06-27| null|\n",
      "|Stockholm|                      2.0|        Apartment|    Södermalm|                97.0|2011-07-06|597.0|\n",
      "|Stockholm|                      1.0|        Apartment|    Södermalm|                93.0|2011-07-13|734.0|\n",
      "|Stockholm|                      1.0|Bed and breakfast|    Södermalm|                98.0|2011-08-26|665.0|\n",
      "|Stockholm|                      1.0|        Apartment|     Norrmalm|                null|2011-09-10|890.0|\n",
      "|Stockholm|                      1.0|        Apartment|  Kungsholmen|                93.0|2011-02-27|597.0|\n",
      "|Stockholm|                      2.0|        Apartment|    Södermalm|                97.0|2011-07-06|558.0|\n",
      "|Stockholm|                      3.0|        Townhouse|Rinkeby-Kista|                89.0|2011-11-02|196.0|\n",
      "+---------+-------------------------+-----------------+-------------+--------------------+----------+-----+\n",
      "only showing top 10 rows\n",
      "\n"
     ]
    }
   ],
   "source": [
    "df_selected_city.show(10)"
   ]
  },
  {
   "cell_type": "code",
   "execution_count": 295,
   "metadata": {},
   "outputs": [],
   "source": [
    "df_neighhood_property_type = df1.groupBy('neighbourhood').agg(f.count('property_type'))"
   ]
  },
  {
   "cell_type": "code",
   "execution_count": 296,
   "metadata": {},
   "outputs": [
    {
     "name": "stdout",
     "output_type": "stream",
     "text": [
      "+--------------------+--------------------+\n",
      "|       neighbourhood|count(property_type)|\n",
      "+--------------------+--------------------+\n",
      "|San Pablo/Santa J...|                 157|\n",
      "|         Schmöckwitz|                  24|\n",
      "|             Palermo|                6596|\n",
      "|              Raheny|                  99|\n",
      "|    Edogawa District|                  74|\n",
      "|           Prague 13|                 105|\n",
      "|Liuliqiao/Lize Br...|                 102|\n",
      "|            Escandón|                 395|\n",
      "|     Rancho Bernardo|                  58|\n",
      "|    Fairmont Village|                  19|\n",
      "|          Donaustadt|                 366|\n",
      "|          Humbermede|                  20|\n",
      "|           Tollcross|                 275|\n",
      "|             Frogner|                 496|\n",
      "|Opéra - Grands Bo...|                1110|\n",
      "|           Apartment|                   1|\n",
      "|     South Melbourne|                 314|\n",
      "|            Satalice|                   6|\n",
      "|            Huaxiang|                 216|\n",
      "|          North Park|                 731|\n",
      "+--------------------+--------------------+\n",
      "only showing top 20 rows\n",
      "\n"
     ]
    }
   ],
   "source": [
    "df_neighhood_property_type.show()"
   ]
  },
  {
   "cell_type": "code",
   "execution_count": 301,
   "metadata": {},
   "outputs": [],
   "source": [
    "dat1  = df_neighhood_property_type.toPandas()"
   ]
  },
  {
   "cell_type": "code",
   "execution_count": 309,
   "metadata": {},
   "outputs": [
    {
     "data": {
      "text/html": [
       "<div>\n",
       "<style scoped>\n",
       "    .dataframe tbody tr th:only-of-type {\n",
       "        vertical-align: middle;\n",
       "    }\n",
       "\n",
       "    .dataframe tbody tr th {\n",
       "        vertical-align: top;\n",
       "    }\n",
       "\n",
       "    .dataframe thead th {\n",
       "        text-align: right;\n",
       "    }\n",
       "</style>\n",
       "<table border=\"1\" class=\"dataframe\">\n",
       "  <thead>\n",
       "    <tr style=\"text-align: right;\">\n",
       "      <th></th>\n",
       "      <th>neighbourhood</th>\n",
       "      <th>count(property_type)</th>\n",
       "    </tr>\n",
       "  </thead>\n",
       "  <tbody>\n",
       "    <tr>\n",
       "      <th>0</th>\n",
       "      <td>San Pablo/Santa Justa</td>\n",
       "      <td>157</td>\n",
       "    </tr>\n",
       "    <tr>\n",
       "      <th>1</th>\n",
       "      <td>Schmöckwitz</td>\n",
       "      <td>24</td>\n",
       "    </tr>\n",
       "  </tbody>\n",
       "</table>\n",
       "</div>"
      ],
      "text/plain": [
       "           neighbourhood  count(property_type)\n",
       "0  San Pablo/Santa Justa                   157\n",
       "1            Schmöckwitz                    24"
      ]
     },
     "execution_count": 309,
     "metadata": {},
     "output_type": "execute_result"
    }
   ],
   "source": [
    "dat1.head(2)"
   ]
  },
  {
   "cell_type": "code",
   "execution_count": 311,
   "metadata": {},
   "outputs": [
    {
     "data": {
      "image/png": "[encoded data removed]",
      "text/plain": [
       "<Figure size 432x288 with 1 Axes>"
      ]
     },
     "metadata": {
      "needs_background": "light"
     },
     "output_type": "display_data"
    },
    {
     "data": {
      "text/plain": [
       "<Figure size 1440x720 with 0 Axes>"
      ]
     },
     "metadata": {},
     "output_type": "display_data"
    }
   ],
   "source": [
    "sb.barplot(x = dat1['neighbourhood'], y=dat1['count(property_type)'])\n",
    "plt.xlabel('neighbourhood')\n",
    "plt.ylabel('count')\n",
    "plt.figure(figsize=(20, 10))\n",
    "plt.show()"
   ]
  },
  {
   "cell_type": "markdown",
   "metadata": {},
   "source": [
    "Here, we are computing the minimum, maximum and average prices in the city. "
   ]
  },
  {
   "cell_type": "code",
   "execution_count": 288,
   "metadata": {},
   "outputs": [],
   "source": [
    "#Select the price attribute\n",
    "df_price_column_selected = df_selected_city.select('price').dropna()"
   ]
  },
  {
   "cell_type": "code",
   "execution_count": 289,
   "metadata": {},
   "outputs": [
    {
     "name": "stdout",
     "output_type": "stream",
     "text": [
      "+-----+\n",
      "|price|\n",
      "+-----+\n",
      "|597.0|\n",
      "|734.0|\n",
      "|665.0|\n",
      "|890.0|\n",
      "|597.0|\n",
      "|558.0|\n",
      "|196.0|\n",
      "|225.0|\n",
      "|294.0|\n",
      "|900.0|\n",
      "+-----+\n",
      "only showing top 10 rows\n",
      "\n"
     ]
    }
   ],
   "source": [
    "df_price_column_selected.show(10)"
   ]
  },
  {
   "cell_type": "code",
   "execution_count": null,
   "metadata": {},
   "outputs": [],
   "source": [
    "\n"
   ]
  },
  {
   "cell_type": "code",
   "execution_count": 292,
   "metadata": {},
   "outputs": [
    {
     "name": "stdout",
     "output_type": "stream",
     "text": [
      "+----------+----------+----------------+\n",
      "|min(price)|max(price)|      avg(price)|\n",
      "+----------+----------+----------------+\n",
      "|      69.0|     998.0|705.042600896861|\n",
      "+----------+----------+----------------+\n",
      "\n"
     ]
    }
   ],
   "source": [
    "# Computing the minimum, maximum and average prices in the city.\n",
    "df_price_column_selected.select(f.min('price'),f.max('price'),f.avg('price')).show()\n"
   ]
  },
  {
   "cell_type": "markdown",
   "metadata": {},
   "source": [
    "Since you are only interested in visualizing the distribution of the prices in the city you will pass in the column name to the column argument of the hist() method to limit the visualization output to the variable of interest"
   ]
  },
  {
   "cell_type": "code",
   "execution_count": 307,
   "metadata": {},
   "outputs": [
    {
     "data": {
      "text/plain": [
       "array([[<matplotlib.axes._subplots.AxesSubplot object at 0x7fa4c77f2588>]],\n",
       "      dtype=object)"
      ]
     },
     "execution_count": 307,
     "metadata": {},
     "output_type": "execute_result"
    },
    {
     "data": {
      "image/png": "[encoded data removed]",
      "text/plain": [
       "<Figure size 432x288 with 1 Axes>"
      ]
     },
     "metadata": {
      "needs_background": "light"
     },
     "output_type": "display_data"
    }
   ],
   "source": [
    "dat2 = df_price_column_selected.toPandas()\n",
    "dat2.hist(column='price')"
   ]
  },
  {
   "cell_type": "code",
   "execution_count": 308,
   "metadata": {},
   "outputs": [
    {
     "data": {
      "text/plain": [
       "<matplotlib.axes._subplots.AxesSubplot at 0x7fa4c190ec18>"
      ]
     },
     "execution_count": 308,
     "metadata": {},
     "output_type": "execute_result"
    },
    {
     "data": {
      "image/png": "[encoded data removed]",
      "text/plain": [
       "<Figure size 432x288 with 1 Axes>"
      ]
     },
     "metadata": {
      "needs_background": "light"
     },
     "output_type": "display_data"
    }
   ],
   "source": [
    "sb.kdeplot(dat2.price, shade =True)"
   ]
  },
  {
   "cell_type": "code",
   "execution_count": 314,
   "metadata": {},
   "outputs": [],
   "source": [
    "df_review_ratings = df1.dropna(subset=('review_scores_rating','price'))"
   ]
  },
  {
   "cell_type": "code",
   "execution_count": 316,
   "metadata": {},
   "outputs": [
    {
     "name": "stdout",
     "output_type": "stream",
     "text": [
      "+---------+-------------------------+-----------------+-------------+--------------------+----------+-----+\n",
      "|     city|host_total_listings_count|    property_type|neighbourhood|review_scores_rating|host_since|price|\n",
      "+---------+-------------------------+-----------------+-------------+--------------------+----------+-----+\n",
      "|Stockholm|                      2.0|        Apartment|    Södermalm|                97.0|2011-07-06|597.0|\n",
      "|Stockholm|                      1.0|        Apartment|    Södermalm|                93.0|2011-07-13|734.0|\n",
      "|Stockholm|                      1.0|Bed and breakfast|    Södermalm|                98.0|2011-08-26|665.0|\n",
      "|Stockholm|                      1.0|        Apartment|  Kungsholmen|                93.0|2011-02-27|597.0|\n",
      "|Stockholm|                      2.0|        Apartment|    Södermalm|                97.0|2011-07-06|558.0|\n",
      "|Stockholm|                      3.0|        Townhouse|Rinkeby-Kista|                89.0|2011-11-02|196.0|\n",
      "|Stockholm|                      1.0|        Apartment|Rinkeby-Kista|                92.0|2011-10-07|225.0|\n",
      "|   Farsta|                      1.0|        Apartment|       Farsta|                92.0|2011-11-29|411.0|\n",
      "|Stockholm|                      1.0|        Apartment|Rinkeby-Kista|                97.0|2011-12-06|294.0|\n",
      "|  Långbro|                      2.0|Bed and breakfast|       Älvsjö|                92.0|2012-01-01|753.0|\n",
      "+---------+-------------------------+-----------------+-------------+--------------------+----------+-----+\n",
      "only showing top 10 rows\n",
      "\n"
     ]
    }
   ],
   "source": [
    "df_review_ratings.show(10)"
   ]
  },
  {
   "cell_type": "code",
   "execution_count": 319,
   "metadata": {},
   "outputs": [],
   "source": [
    "#df.withColumn('RealFare', f.col('Fare')/(f.col('SibSp')+f.col('Parch')+1)).select('SibSp', 'Parch', 'Fare', 'RealFare').show()\n",
    "df_value = df_review_ratings.withColumn('value', f.col('review_scores_rating')/f.col('price')).select('neighbourhood', 'value')"
   ]
  },
  {
   "cell_type": "code",
   "execution_count": 320,
   "metadata": {},
   "outputs": [
    {
     "name": "stdout",
     "output_type": "stream",
     "text": [
      "+-------------+-------------------+\n",
      "|neighbourhood|              value|\n",
      "+-------------+-------------------+\n",
      "|    Södermalm| 0.1624790619765494|\n",
      "|    Södermalm|0.12670299727520437|\n",
      "|    Södermalm|0.14736842105263157|\n",
      "|  Kungsholmen|0.15577889447236182|\n",
      "|    Södermalm|0.17383512544802868|\n",
      "|Rinkeby-Kista|0.45408163265306123|\n",
      "|Rinkeby-Kista| 0.4088888888888889|\n",
      "|       Farsta|0.22384428223844283|\n",
      "|Rinkeby-Kista| 0.3299319727891156|\n",
      "|       Älvsjö|0.12217795484727756|\n",
      "+-------------+-------------------+\n",
      "only showing top 10 rows\n",
      "\n"
     ]
    }
   ],
   "source": [
    "df_value.show(10)"
   ]
  },
  {
   "cell_type": "code",
   "execution_count": 326,
   "metadata": {},
   "outputs": [],
   "source": [
    "#Creating the window\n",
    "df_window = Window.partitionBy('neighbourhood').orderBy(f.desc('value'))"
   ]
  },
  {
   "cell_type": "code",
   "execution_count": 327,
   "metadata": {},
   "outputs": [],
   "source": [
    "df_rank = df_value.withColumn('NeighbourhoodValue', f.rank().over(df_window))"
   ]
  },
  {
   "cell_type": "code",
   "execution_count": 328,
   "metadata": {},
   "outputs": [
    {
     "name": "stdout",
     "output_type": "stream",
     "text": [
      "+-------------------+------------------+\n",
      "|      neighbourhood|             value|\n",
      "+-------------------+------------------+\n",
      "|               null|             100.0|\n",
      "|               null|13.714285714285714|\n",
      "|               null|              12.5|\n",
      "|16th Street Heights|3.1666666666666665|\n",
      "|16th Street Heights| 2.857142857142857|\n",
      "|16th Street Heights| 2.857142857142857|\n",
      "|16th Street Heights| 2.857142857142857|\n",
      "| 1st Arrondissement|10.333333333333334|\n",
      "| 1st Arrondissement| 8.181818181818182|\n",
      "| 1st Arrondissement| 8.166666666666666|\n",
      "| 2nd Arrondissement|              6.25|\n",
      "| 2nd Arrondissement|            5.9375|\n",
      "| 2nd Arrondissement|5.2631578947368425|\n",
      "| 3rd Arrondissement| 7.142857142857143|\n",
      "| 3rd Arrondissement| 6.666666666666667|\n",
      "| 3rd Arrondissement| 6.666666666666667|\n",
      "| 4th Arrondissement| 7.071428571428571|\n",
      "| 4th Arrondissement|              6.25|\n",
      "| 4th Arrondissement|               6.0|\n",
      "| 4th Arrondissement|               6.0|\n",
      "+-------------------+------------------+\n",
      "only showing top 20 rows\n",
      "\n"
     ]
    }
   ],
   "source": [
    "df_rank_top_3 = df_rank.filter(f.col('NeighbourhoodValue') <= 3).drop('NeighbourhoodValue').orderBy('neighbourhood', f.desc('value')).show()"
   ]
  },
  {
   "cell_type": "markdown",
   "metadata": {},
   "source": [
    "##Trends\n",
    "There are various reviews and most of the them are for specific features about the apartment being listed. We are assuming that the review_scores_rating reflects or serves as the overall perception of customers about the listings. "
   ]
  },
  {
   "cell_type": "code",
   "execution_count": 332,
   "metadata": {},
   "outputs": [],
   "source": [
    "#Select the price attribute\n",
    "df_review_column_selected = df_selected_city.select('review_scores_rating').dropna()"
   ]
  },
  {
   "cell_type": "code",
   "execution_count": null,
   "metadata": {},
   "outputs": [],
   "source": []
  },
  {
   "cell_type": "code",
   "execution_count": null,
   "metadata": {},
   "outputs": [],
   "source": []
  },
  {
   "cell_type": "markdown",
   "metadata": {},
   "source": [
    "### Describe the data\n",
    "List the features (schema) and sizes of the datasets."
   ]
  },
  {
   "cell_type": "code",
   "execution_count": null,
   "metadata": {},
   "outputs": [],
   "source": []
  },
  {
   "cell_type": "markdown",
   "metadata": {},
   "source": [
    "### Prepare the data for analysis\n",
    "You should prepare two dataframes to be used in the analysis part of the project. You should not be concerned with cleaning the data. There's a lot of it, so it will be sufficient to drop rows that have bad values. You may want to go back and refine this step at a later point when doing the analysis.\n",
    "\n",
    "You may also want to consider if you can stage your data so that subsequent processing is more efficient (this is not strictly necessary for Spark to run, but you may be able to decrease the time you sit around waiting for Spark to finish things)"
   ]
  },
  {
   "cell_type": "code",
   "execution_count": null,
   "metadata": {},
   "outputs": [],
   "source": []
  },
  {
   "cell_type": "markdown",
   "metadata": {},
   "source": [
    "# Part 2: Analysis\n",
    "Use Spark and your favorite tool for data visualization to solve the following tasks.\n",
    "\n",
    "## The basics\n",
    "Compute and show a dataframe with the number of listings and neighbourhoods per city."
   ]
  },
  {
   "cell_type": "code",
   "execution_count": null,
   "metadata": {},
   "outputs": [],
   "source": []
  },
  {
   "cell_type": "markdown",
   "metadata": {},
   "source": [
    "Based on the table above, you should choose a city that you want to continue your analysis for. The city should have mulitple neighbourhoods with listings in them.\n",
    "\n",
    "Compute and visualize the number of listings of different property types per neighbourhood in your city."
   ]
  },
  {
   "cell_type": "code",
   "execution_count": null,
   "metadata": {},
   "outputs": [],
   "source": []
  },
  {
   "cell_type": "markdown",
   "metadata": {},
   "source": [
    "## Prices\n",
    "Compute the minimum, maximum and average listing price in your city. "
   ]
  },
  {
   "cell_type": "code",
   "execution_count": null,
   "metadata": {},
   "outputs": [],
   "source": []
  },
  {
   "cell_type": "markdown",
   "metadata": {},
   "source": [
    "Compute and visualize the distribution of listing prices in your city."
   ]
  },
  {
   "cell_type": "code",
   "execution_count": null,
   "metadata": {},
   "outputs": [],
   "source": []
  },
  {
   "cell_type": "markdown",
   "metadata": {},
   "source": [
    "The value of a listing is its rating divided by its price.\n",
    "\n",
    "Compute and show a dataframe with the 3 highest valued listings in each neighbourhood."
   ]
  },
  {
   "cell_type": "code",
   "execution_count": null,
   "metadata": {},
   "outputs": [],
   "source": []
  },
  {
   "cell_type": "markdown",
   "metadata": {},
   "source": [
    "## Trends\n",
    "Now we want to analyze the \"popularity\" of your city. The data does not contain the number of bookings per listing, but we have a large number of reviews, and we will assume that this is a good indicator of activity on listings."
   ]
  },
  {
   "cell_type": "markdown",
   "metadata": {},
   "source": [
    "Compute and visualize the popularity (i.e., number of reviews) of your city over time."
   ]
  },
  {
   "cell_type": "code",
   "execution_count": null,
   "metadata": {},
   "outputs": [],
   "source": []
  },
  {
   "cell_type": "markdown",
   "metadata": {},
   "source": [
    "Compute and visualize the popularity of neighbourhoods over time. If there are many neighbourhoods in your city, you should select a few interesting ones for comparison."
   ]
  },
  {
   "cell_type": "code",
   "execution_count": null,
   "metadata": {},
   "outputs": [],
   "source": []
  },
  {
   "cell_type": "markdown",
   "metadata": {},
   "source": [
    "Compute and visualize the popularity of your city by season. For example, visualize the popularity of your city per month."
   ]
  },
  {
   "cell_type": "code",
   "execution_count": null,
   "metadata": {},
   "outputs": [],
   "source": []
  },
  {
   "cell_type": "markdown",
   "metadata": {},
   "source": [
    "## Reviews\n",
    "In this part you should determine which words used in reviews that are the most positive. \n",
    "\n",
    "The individual reviews do not have a rating of the listing, so we will assume that each review gave the average rating to the listing, i.e., the one on the listing.\n",
    "\n",
    "You should assign a positivity weight to each word seen in reviews and list the words with the highest weight. It is up to you to decide what the weight should be. For example, it can be a function of the rating on the listing on which it occurs, the number of reviews it occurs in, and the number of unique listings for which it was used to review.\n",
    "\n",
    "Depending on your choice of weight function, you may also want to do some filtering of words. For example, remove words that only occur in a few reviews."
   ]
  },
  {
   "cell_type": "code",
   "execution_count": null,
   "metadata": {},
   "outputs": [],
   "source": []
  }
 ],
 "metadata": {
  "kernelspec": {
   "display_name": "Python 3",
   "language": "python",
   "name": "python3"
  },
  "language_info": {
   "codemirror_mode": {
    "name": "ipython",
    "version": 3
   },
   "file_extension": ".py",
   "mimetype": "text/x-python",
   "name": "python",
   "nbconvert_exporter": "python",
   "pygments_lexer": "ipython3",
   "version": "3.7.4"
  },
  "toc": {
   "base_numbering": 1,
   "nav_menu": {},
   "number_sections": true,
   "sideBar": true,
   "skip_h1_title": false,
   "title_cell": "Table of Contents",
   "title_sidebar": "Contents",
   "toc_cell": false,
   "toc_position": {},
   "toc_section_display": true,
   "toc_window_display": false
  }
 },
 "nbformat": 4,
 "nbformat_minor": 2
}
