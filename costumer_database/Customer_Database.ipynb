{
 "cells": [
  {
   "cell_type": "markdown",
   "metadata": {},
   "source": [
    "# Costumer Database:\n",
    "This project consist the dataset of transaction of the costumer for the corporation over the years. The data table consist of the date of transaction, the company of costumer, the city, country of the costumer."
   ]
  },
  {
   "cell_type": "markdown",
   "metadata": {},
   "source": [
    "# Objectives:\n",
    "+ Cleaning and Processing the Data to the Clean Data \n",
    "+ Enriching the Columns for Better Analysis\n",
    "+ Building the SQL DataBase"
   ]
  },
  {
   "cell_type": "markdown",
   "metadata": {
    "colab_type": "text",
    "id": "_9cn4gs5I82K"
   },
   "source": [
    "# Part 1\n",
    "\n"
   ]
  },
  {
   "cell_type": "markdown",
   "metadata": {},
   "source": [
    "The transaction data of the company could be found from the below link as the CSV file:"
   ]
  },
  {
   "cell_type": "markdown",
   "metadata": {
    "colab_type": "text",
    "id": "u-p5nRwgC6ml"
   },
   "source": [
    "[transactions.csv](https://raw.githubusercontent.com/patrickcording/02807-comp-tools/master/docker/work/data/transactions.csv)"
   ]
  },
  {
   "cell_type": "markdown",
   "metadata": {
    "colab_type": "text",
    "id": "lIRR3Mn1cgEU"
   },
   "source": [
    "## Load Packages:"
   ]
  },
  {
   "cell_type": "code",
   "execution_count": 4,
   "metadata": {
    "colab": {},
    "colab_type": "code",
    "id": "UVm3TtssKpFb"
   },
   "outputs": [],
   "source": [
    "import os\n",
    "import pandas as pd\n",
    "import numpy as np\n",
    "import matplotlib.pyplot as plt\n",
    "import seaborn as sns\n",
    "import sklearn\n",
    "import requests\n",
    "import json\n",
    "from datetime import datetime"
   ]
  },
  {
   "cell_type": "markdown",
   "metadata": {
    "colab_type": "text",
    "id": "3b7YGnsXdfX5"
   },
   "source": [
    "### Data retrieved and peep at the top"
   ]
  },
  {
   "cell_type": "code",
   "execution_count": 5,
   "metadata": {
    "colab": {
     "base_uri": "https://localhost:8080/",
     "height": 202
    },
    "colab_type": "code",
    "id": "hZhLD31XIf89",
    "outputId": "a9f607f1-e001-41df-d597-1456e865b9af"
   },
   "outputs": [
    {
     "data": {
      "text/html": [
       "<div>\n",
       "<style scoped>\n",
       "    .dataframe tbody tr th:only-of-type {\n",
       "        vertical-align: middle;\n",
       "    }\n",
       "\n",
       "    .dataframe tbody tr th {\n",
       "        vertical-align: top;\n",
       "    }\n",
       "\n",
       "    .dataframe thead th {\n",
       "        text-align: right;\n",
       "    }\n",
       "</style>\n",
       "<table border=\"1\" class=\"dataframe\">\n",
       "  <thead>\n",
       "    <tr style=\"text-align: right;\">\n",
       "      <th></th>\n",
       "      <th>part</th>\n",
       "      <th>company</th>\n",
       "      <th>country</th>\n",
       "      <th>city</th>\n",
       "      <th>price</th>\n",
       "      <th>date</th>\n",
       "    </tr>\n",
       "  </thead>\n",
       "  <tbody>\n",
       "    <tr>\n",
       "      <th>0</th>\n",
       "      <td>54868-5165</td>\n",
       "      <td>Chatterbridge</td>\n",
       "      <td>Spain</td>\n",
       "      <td>Barcelona</td>\n",
       "      <td>784.79€</td>\n",
       "      <td>2016-01-02 00:01:05</td>\n",
       "    </tr>\n",
       "    <tr>\n",
       "      <th>1</th>\n",
       "      <td>60505-2867</td>\n",
       "      <td>Lajo</td>\n",
       "      <td>Greece</td>\n",
       "      <td>Thessaloniki</td>\n",
       "      <td>187.99€</td>\n",
       "      <td>2016-01-02 00:05:26</td>\n",
       "    </tr>\n",
       "    <tr>\n",
       "      <th>2</th>\n",
       "      <td>24385-268</td>\n",
       "      <td>Flipstorm</td>\n",
       "      <td>Greece</td>\n",
       "      <td>Athens</td>\n",
       "      <td>221.73€</td>\n",
       "      <td>2016-01-02 00:18:30</td>\n",
       "    </tr>\n",
       "    <tr>\n",
       "      <th>3</th>\n",
       "      <td>76117-001</td>\n",
       "      <td>Twitterbeat</td>\n",
       "      <td>France</td>\n",
       "      <td>Annecy</td>\n",
       "      <td>1075.82€</td>\n",
       "      <td>2016-01-02 02:32:30</td>\n",
       "    </tr>\n",
       "    <tr>\n",
       "      <th>4</th>\n",
       "      <td>44946-1046</td>\n",
       "      <td>Chatterbridge</td>\n",
       "      <td>Spain</td>\n",
       "      <td>Barcelona</td>\n",
       "      <td>412.55€</td>\n",
       "      <td>2016-01-02 04:51:55</td>\n",
       "    </tr>\n",
       "  </tbody>\n",
       "</table>\n",
       "</div>"
      ],
      "text/plain": [
       "         part        company country          city     price  \\\n",
       "0  54868-5165  Chatterbridge   Spain     Barcelona   784.79€   \n",
       "1  60505-2867           Lajo  Greece  Thessaloniki   187.99€   \n",
       "2   24385-268      Flipstorm  Greece        Athens   221.73€   \n",
       "3   76117-001    Twitterbeat  France        Annecy  1075.82€   \n",
       "4  44946-1046  Chatterbridge   Spain     Barcelona   412.55€   \n",
       "\n",
       "                  date  \n",
       "0  2016-01-02 00:01:05  \n",
       "1  2016-01-02 00:05:26  \n",
       "2  2016-01-02 00:18:30  \n",
       "3  2016-01-02 02:32:30  \n",
       "4  2016-01-02 04:51:55  "
      ]
     },
     "execution_count": 5,
     "metadata": {},
     "output_type": "execute_result"
    }
   ],
   "source": [
    "df = pd.read_csv(\n",
    "    'https://raw.githubusercontent.com/patrickcording/02807-comp-tools/master/docker/work/data/transactions.csv'\n",
    ")\n",
    "df.head(5)"
   ]
  },
  {
   "cell_type": "code",
   "execution_count": 6,
   "metadata": {},
   "outputs": [
    {
     "name": "stdout",
     "output_type": "stream",
     "text": [
      "<class 'pandas.core.frame.DataFrame'>\n",
      "RangeIndex: 20568 entries, 0 to 20567\n",
      "Data columns (total 6 columns):\n",
      " #   Column   Non-Null Count  Dtype \n",
      "---  ------   --------------  ----- \n",
      " 0   part     20558 non-null  object\n",
      " 1   company  20568 non-null  object\n",
      " 2   country  18397 non-null  object\n",
      " 3   city     20535 non-null  object\n",
      " 4   price    20567 non-null  object\n",
      " 5   date     20568 non-null  object\n",
      "dtypes: object(6)\n",
      "memory usage: 964.2+ KB\n"
     ]
    }
   ],
   "source": [
    "df.info()"
   ]
  },
  {
   "cell_type": "code",
   "execution_count": 7,
   "metadata": {},
   "outputs": [
    {
     "name": "stdout",
     "output_type": "stream",
     "text": [
      "Rows: 20568, Columns: 6\n"
     ]
    }
   ],
   "source": [
    "print(f\"Rows: {df.shape[0]}, Columns: {df.shape[1]}\")\n"
   ]
  },
  {
   "cell_type": "markdown",
   "metadata": {
    "colab_type": "text",
    "id": "ck-p4oOYiikh"
   },
   "source": [
    "## Data Cleaning\n"
   ]
  },
  {
   "cell_type": "markdown",
   "metadata": {
    "colab_type": "text",
    "id": "gBqDqaBzAghR"
   },
   "source": [
    "The data is various companies in different countries and the dates unspecified products were sold.  The data has 20568 rows and 6 columns. We will subsequently check the unusable entries according to each column. \n",
    "The obviously large number of rows make manual identification of wrong entries difficult to examine. We will use the tools available to us to examine, evaluate and manupulate the data so that we can transform the data to suit our purpose. \n"
   ]
  },
  {
   "cell_type": "code",
   "execution_count": 12,
   "metadata": {
    "colab": {
     "base_uri": "https://localhost:8080/",
     "height": 139
    },
    "colab_type": "code",
    "id": "-OhxJchxjJYb",
    "outputId": "07a5d5ed-633e-4f5d-c768-399fe0797b18"
   },
   "outputs": [
    {
     "data": {
      "text/plain": [
       "part         10\n",
       "company       0\n",
       "country    2171\n",
       "city         33\n",
       "price         1\n",
       "date          0\n",
       "dtype: int64"
      ]
     },
     "execution_count": 12,
     "metadata": {},
     "output_type": "execute_result"
    }
   ],
   "source": [
    "#df.isnull().sum(axis=0)\n",
    "df.isnull().sum(axis=0)"
   ]
  },
  {
   "cell_type": "markdown",
   "metadata": {
    "colab_type": "text",
    "id": "vlDcINs-DvBX"
   },
   "source": [
    "The entries in the column 'part' appears to be nominal in nature. We have therefore decided to simply remove any null entry by rows."
   ]
  },
  {
   "cell_type": "code",
   "execution_count": 13,
   "metadata": {
    "colab": {},
    "colab_type": "code",
    "id": "4Z4qwVP63ftj"
   },
   "outputs": [],
   "source": [
    "df.dropna(subset= ['part'], inplace=True)"
   ]
  },
  {
   "cell_type": "code",
   "execution_count": 14,
   "metadata": {
    "colab": {
     "base_uri": "https://localhost:8080/",
     "height": 139
    },
    "colab_type": "code",
    "id": "uFAlNOcj4KSb",
    "outputId": "fcdc02a8-9de9-475b-f9e9-498022c69516"
   },
   "outputs": [
    {
     "data": {
      "text/plain": [
       "part          0\n",
       "company       0\n",
       "country    2171\n",
       "city         33\n",
       "price         1\n",
       "date          0\n",
       "dtype: int64"
      ]
     },
     "execution_count": 14,
     "metadata": {},
     "output_type": "execute_result"
    }
   ],
   "source": [
    "df.isnull().sum(axis=0)"
   ]
  },
  {
   "cell_type": "markdown",
   "metadata": {
    "colab_type": "text",
    "id": "5oDyXOf3EhID"
   },
   "source": [
    "It can be seen that 'part' column no longer has null entries. We now move our attention to the column country. \n",
    "\n",
    "### 'company' column\n"
   ]
  },
  {
   "cell_type": "code",
   "execution_count": 20,
   "metadata": {
    "colab": {},
    "colab_type": "code",
    "id": "NjsjxoCHEP83"
   },
   "outputs": [],
   "source": [
    "df1 = df['company'].value_counts(dropna = False)"
   ]
  },
  {
   "cell_type": "code",
   "execution_count": 113,
   "metadata": {
    "colab": {
     "base_uri": "https://localhost:8080/",
     "height": 641
    },
    "colab_type": "code",
    "id": "5pcDqSrL49T3",
    "outputId": "9e206890-f448-4300-e651-17feb685954b"
   },
   "outputs": [
    {
     "data": {
      "text/plain": [
       "France            3462\n",
       "Germany           1125\n",
       "Greece            1627\n",
       "Japan              159\n",
       "Netherlands        427\n",
       "Portugal          7384\n",
       "Spain             1425\n",
       "Switzerland         11\n",
       "United Kingdom    1511\n",
       "United States     1256\n",
       "NaN               2171\n",
       "Name: country, dtype: int64"
      ]
     },
     "execution_count": 113,
     "metadata": {},
     "output_type": "execute_result"
    }
   ],
   "source": [
    "df1.sort_index()\n"
   ]
  },
  {
   "cell_type": "markdown",
   "metadata": {
    "colab_type": "text",
    "id": "egM02lZBhHhP"
   },
   "source": [
    "From the output above, we have do some manupulation by replacing companies with almost equal names with the likeliest. "
   ]
  },
  {
   "cell_type": "code",
   "execution_count": 23,
   "metadata": {
    "colab": {
     "base_uri": "https://localhost:8080/",
     "height": 572
    },
    "colab_type": "code",
    "id": "sEOlTTsKSOk1",
    "outputId": "7a21b327-af3a-4990-dab7-a800db42ee9f"
   },
   "outputs": [
    {
     "data": {
      "text/plain": [
       " -                  1\n",
       " a                  1\n",
       "Avaveo            212\n",
       "Brainsphere      1241\n",
       "Bubblemix          54\n",
       "Buzzbean         1253\n",
       "Chatterbridge    1589\n",
       "Eimbee            498\n",
       "Flipstorm        1193\n",
       "Gabcube           356\n",
       "Gabtune            27\n",
       "Gevee              36\n",
       "Innojam            44\n",
       "Kanoodle          127\n",
       "Lajo              220\n",
       "Ntags            1515\n",
       "Realpoint         158\n",
       "Rhycero           204\n",
       "Riffpath          151\n",
       "Roodel            626\n",
       "Shufflebeat      1553\n",
       "Tagtune            12\n",
       "Teklist           428\n",
       "Thoughtmix       2795\n",
       "Twitterbeat      2267\n",
       "Voomm             250\n",
       "Wordify           968\n",
       "Yozio             653\n",
       "Zoonder           453\n",
       "Zooxo            1672\n",
       "aa                  1\n",
       "Name: company, dtype: int64"
      ]
     },
     "execution_count": 23,
     "metadata": {},
     "output_type": "execute_result"
    }
   ],
   "source": [
    "df['company'] = df['company'].str.replace('Laj0', 'Lajo')\n",
    "df['company'] = df['company'].str.replace('Ntagz', 'Ntags')\n",
    "df['company'] = df['company'].str.replace('Thoughtmixz', 'Thoughtmix')\n",
    "df['company'] = df['company'].str.replace('Zooxo.', 'Zooxo')\n",
    "df1 = df['company'].value_counts(dropna=False)\n",
    "df1.sort_index()"
   ]
  },
  {
   "cell_type": "markdown",
   "metadata": {
    "colab_type": "text",
    "id": "5IZUnSgNwTSa"
   },
   "source": [
    "From the above information, we can deduce that companies '-', 'a', and 'aa' may represent given companies in their own right but we in no way able to know that. We can do further checks."
   ]
  },
  {
   "cell_type": "code",
   "execution_count": 25,
   "metadata": {
    "colab": {
     "base_uri": "https://localhost:8080/",
     "height": 79
    },
    "colab_type": "code",
    "id": "gUCJBICe49ye",
    "outputId": "0cd5f563-16ac-4aa1-d73b-052bc8ce2509"
   },
   "outputs": [
    {
     "data": {
      "text/html": [
       "<div>\n",
       "<style scoped>\n",
       "    .dataframe tbody tr th:only-of-type {\n",
       "        vertical-align: middle;\n",
       "    }\n",
       "\n",
       "    .dataframe tbody tr th {\n",
       "        vertical-align: top;\n",
       "    }\n",
       "\n",
       "    .dataframe thead th {\n",
       "        text-align: right;\n",
       "    }\n",
       "</style>\n",
       "<table border=\"1\" class=\"dataframe\">\n",
       "  <thead>\n",
       "    <tr style=\"text-align: right;\">\n",
       "      <th></th>\n",
       "      <th>part</th>\n",
       "      <th>company</th>\n",
       "      <th>country</th>\n",
       "      <th>city</th>\n",
       "      <th>price</th>\n",
       "      <th>date</th>\n",
       "    </tr>\n",
       "  </thead>\n",
       "  <tbody>\n",
       "    <tr>\n",
       "      <th>13841</th>\n",
       "      <td>51346-145</td>\n",
       "      <td>aa</td>\n",
       "      <td>United States</td>\n",
       "      <td>New York</td>\n",
       "      <td>$1059.38</td>\n",
       "      <td>2017-12-16 20:02:15</td>\n",
       "    </tr>\n",
       "  </tbody>\n",
       "</table>\n",
       "</div>"
      ],
      "text/plain": [
       "            part company        country      city     price  \\\n",
       "13841  51346-145      aa  United States  New York  $1059.38   \n",
       "\n",
       "                      date  \n",
       "13841  2017-12-16 20:02:15  "
      ]
     },
     "execution_count": 25,
     "metadata": {},
     "output_type": "execute_result"
    }
   ],
   "source": [
    "company_aa = df[df['company'] == 'aa']\n",
    "company_aa"
   ]
  },
  {
   "cell_type": "code",
   "execution_count": 26,
   "metadata": {
    "colab": {
     "base_uri": "https://localhost:8080/",
     "height": 79
    },
    "colab_type": "code",
    "id": "PG6XvG4En7WX",
    "outputId": "a69b726a-a18c-441f-9c44-302ef8bd79c2"
   },
   "outputs": [
    {
     "data": {
      "text/html": [
       "<div>\n",
       "<style scoped>\n",
       "    .dataframe tbody tr th:only-of-type {\n",
       "        vertical-align: middle;\n",
       "    }\n",
       "\n",
       "    .dataframe tbody tr th {\n",
       "        vertical-align: top;\n",
       "    }\n",
       "\n",
       "    .dataframe thead th {\n",
       "        text-align: right;\n",
       "    }\n",
       "</style>\n",
       "<table border=\"1\" class=\"dataframe\">\n",
       "  <thead>\n",
       "    <tr style=\"text-align: right;\">\n",
       "      <th></th>\n",
       "      <th>part</th>\n",
       "      <th>company</th>\n",
       "      <th>country</th>\n",
       "      <th>city</th>\n",
       "      <th>price</th>\n",
       "      <th>date</th>\n",
       "    </tr>\n",
       "  </thead>\n",
       "  <tbody>\n",
       "    <tr>\n",
       "      <th>13840</th>\n",
       "      <td>37205-992</td>\n",
       "      <td>a</td>\n",
       "      <td>United States</td>\n",
       "      <td>New York</td>\n",
       "      <td>$395.3</td>\n",
       "      <td>2017-12-16 18:59:53</td>\n",
       "    </tr>\n",
       "  </tbody>\n",
       "</table>\n",
       "</div>"
      ],
      "text/plain": [
       "            part company        country      city   price                 date\n",
       "13840  37205-992       a  United States  New York  $395.3  2017-12-16 18:59:53"
      ]
     },
     "execution_count": 26,
     "metadata": {},
     "output_type": "execute_result"
    }
   ],
   "source": [
    "company_a = df[df['company'] == ' a'] \n",
    "company_a"
   ]
  },
  {
   "cell_type": "code",
   "execution_count": 27,
   "metadata": {
    "colab": {
     "base_uri": "https://localhost:8080/",
     "height": 79
    },
    "colab_type": "code",
    "id": "AZdd5vMJ4zEN",
    "outputId": "1457b554-c46b-4438-aecb-0fde7a90ebe8"
   },
   "outputs": [
    {
     "data": {
      "text/html": [
       "<div>\n",
       "<style scoped>\n",
       "    .dataframe tbody tr th:only-of-type {\n",
       "        vertical-align: middle;\n",
       "    }\n",
       "\n",
       "    .dataframe tbody tr th {\n",
       "        vertical-align: top;\n",
       "    }\n",
       "\n",
       "    .dataframe thead th {\n",
       "        text-align: right;\n",
       "    }\n",
       "</style>\n",
       "<table border=\"1\" class=\"dataframe\">\n",
       "  <thead>\n",
       "    <tr style=\"text-align: right;\">\n",
       "      <th></th>\n",
       "      <th>part</th>\n",
       "      <th>company</th>\n",
       "      <th>country</th>\n",
       "      <th>city</th>\n",
       "      <th>price</th>\n",
       "      <th>date</th>\n",
       "    </tr>\n",
       "  </thead>\n",
       "  <tbody>\n",
       "    <tr>\n",
       "      <th>13839</th>\n",
       "      <td>17156-617</td>\n",
       "      <td>-</td>\n",
       "      <td>United States</td>\n",
       "      <td>Boston</td>\n",
       "      <td>$1168.82</td>\n",
       "      <td>2017-12-16 17:55:55</td>\n",
       "    </tr>\n",
       "  </tbody>\n",
       "</table>\n",
       "</div>"
      ],
      "text/plain": [
       "            part company        country    city     price                 date\n",
       "13839  17156-617       -  United States  Boston  $1168.82  2017-12-16 17:55:55"
      ]
     },
     "execution_count": 27,
     "metadata": {},
     "output_type": "execute_result"
    }
   ],
   "source": [
    "companydash = df[df['company'] == ' -']\n",
    "companydash"
   ]
  },
  {
   "cell_type": "code",
   "execution_count": 28,
   "metadata": {
    "colab": {},
    "colab_type": "code",
    "id": "PXCxUmDb4zeR"
   },
   "outputs": [
    {
     "data": {
      "text/html": [
       "<div>\n",
       "<style scoped>\n",
       "    .dataframe tbody tr th:only-of-type {\n",
       "        vertical-align: middle;\n",
       "    }\n",
       "\n",
       "    .dataframe tbody tr th {\n",
       "        vertical-align: top;\n",
       "    }\n",
       "\n",
       "    .dataframe thead th {\n",
       "        text-align: right;\n",
       "    }\n",
       "</style>\n",
       "<table border=\"1\" class=\"dataframe\">\n",
       "  <thead>\n",
       "    <tr style=\"text-align: right;\">\n",
       "      <th></th>\n",
       "      <th>part</th>\n",
       "      <th>company</th>\n",
       "      <th>country</th>\n",
       "      <th>city</th>\n",
       "      <th>price</th>\n",
       "      <th>date</th>\n",
       "    </tr>\n",
       "  </thead>\n",
       "  <tbody>\n",
       "    <tr>\n",
       "      <th>13841</th>\n",
       "      <td>51346-145</td>\n",
       "      <td>aa</td>\n",
       "      <td>United States</td>\n",
       "      <td>New York</td>\n",
       "      <td>$1059.38</td>\n",
       "      <td>2017-12-16 20:02:15</td>\n",
       "    </tr>\n",
       "    <tr>\n",
       "      <th>13840</th>\n",
       "      <td>37205-992</td>\n",
       "      <td>a</td>\n",
       "      <td>United States</td>\n",
       "      <td>New York</td>\n",
       "      <td>$395.3</td>\n",
       "      <td>2017-12-16 18:59:53</td>\n",
       "    </tr>\n",
       "    <tr>\n",
       "      <th>13839</th>\n",
       "      <td>17156-617</td>\n",
       "      <td>-</td>\n",
       "      <td>United States</td>\n",
       "      <td>Boston</td>\n",
       "      <td>$1168.82</td>\n",
       "      <td>2017-12-16 17:55:55</td>\n",
       "    </tr>\n",
       "  </tbody>\n",
       "</table>\n",
       "</div>"
      ],
      "text/plain": [
       "            part company        country      city     price  \\\n",
       "13841  51346-145      aa  United States  New York  $1059.38   \n",
       "13840  37205-992       a  United States  New York    $395.3   \n",
       "13839  17156-617       -  United States    Boston  $1168.82   \n",
       "\n",
       "                      date  \n",
       "13841  2017-12-16 20:02:15  \n",
       "13840  2017-12-16 18:59:53  \n",
       "13839  2017-12-16 17:55:55  "
      ]
     },
     "execution_count": 28,
     "metadata": {},
     "output_type": "execute_result"
    }
   ],
   "source": [
    "weird = pd.concat([company_aa, company_a, companydash])\n",
    "weird"
   ]
  },
  {
   "cell_type": "code",
   "execution_count": 32,
   "metadata": {
    "colab": {
     "base_uri": "https://localhost:8080/",
     "height": 141
    },
    "colab_type": "code",
    "id": "EquB5vNg4zzI",
    "outputId": "232b6985-540b-4ed7-bd49-e8fafb0a3c4d"
   },
   "outputs": [
    {
     "data": {
      "text/html": [
       "<div>\n",
       "<style scoped>\n",
       "    .dataframe tbody tr th:only-of-type {\n",
       "        vertical-align: middle;\n",
       "    }\n",
       "\n",
       "    .dataframe tbody tr th {\n",
       "        vertical-align: top;\n",
       "    }\n",
       "\n",
       "    .dataframe thead th {\n",
       "        text-align: right;\n",
       "    }\n",
       "</style>\n",
       "<table border=\"1\" class=\"dataframe\">\n",
       "  <thead>\n",
       "    <tr style=\"text-align: right;\">\n",
       "      <th></th>\n",
       "      <th>part</th>\n",
       "      <th>company</th>\n",
       "      <th>country</th>\n",
       "      <th>city</th>\n",
       "      <th>price</th>\n",
       "      <th>date</th>\n",
       "    </tr>\n",
       "  </thead>\n",
       "  <tbody>\n",
       "    <tr>\n",
       "      <th>0</th>\n",
       "      <td>37205-992</td>\n",
       "      <td>a</td>\n",
       "      <td>United States</td>\n",
       "      <td>New York</td>\n",
       "      <td>$395.3</td>\n",
       "      <td>2017-12-16 18:59:53</td>\n",
       "    </tr>\n",
       "    <tr>\n",
       "      <th>1</th>\n",
       "      <td>51346-145</td>\n",
       "      <td>aa</td>\n",
       "      <td>United States</td>\n",
       "      <td>New York</td>\n",
       "      <td>$1059.38</td>\n",
       "      <td>2017-12-16 20:02:15</td>\n",
       "    </tr>\n",
       "  </tbody>\n",
       "</table>\n",
       "</div>"
      ],
      "text/plain": [
       "        part company        country      city     price                 date\n",
       "0  37205-992       a  United States  New York    $395.3  2017-12-16 18:59:53\n",
       "1  51346-145      aa  United States  New York  $1059.38  2017-12-16 20:02:15"
      ]
     },
     "execution_count": 32,
     "metadata": {},
     "output_type": "execute_result"
    }
   ],
   "source": [
    "pd.merge(df, weird)"
   ]
  },
  {
   "cell_type": "markdown",
   "metadata": {
    "colab_type": "text",
    "id": "zDuelKnxhQYF"
   },
   "source": [
    "Now, what we can do is that we look at the all the companies who's city is New York, and we find the the only possible company is 'Wordify'\n"
   ]
  },
  {
   "cell_type": "code",
   "execution_count": 33,
   "metadata": {
    "colab": {
     "base_uri": "https://localhost:8080/",
     "height": 87
    },
    "colab_type": "code",
    "id": "pFlwkLcQtWSH",
    "outputId": "6b776cee-fea8-4a0e-a4e0-dc6adfb7f977"
   },
   "outputs": [
    {
     "data": {
      "text/plain": [
       "Wordify    966\n",
       " a           1\n",
       "aa           1\n",
       "Name: company, dtype: int64"
      ]
     },
     "execution_count": 33,
     "metadata": {},
     "output_type": "execute_result"
    }
   ],
   "source": [
    "df1=df[df.city =='New York']\n",
    "df1.company.value_counts(dropna = False)"
   ]
  },
  {
   "cell_type": "code",
   "execution_count": 34,
   "metadata": {
    "colab": {},
    "colab_type": "code",
    "id": "e9fK0MP-2REJ"
   },
   "outputs": [],
   "source": [
    "df['company']=df['company'].str.replace(' a','Wordify')\n",
    "df['company']=df['company'].str.replace('aa','Wordify')"
   ]
  },
  {
   "cell_type": "markdown",
   "metadata": {
    "colab_type": "text",
    "id": "1zFmTSJEhvYH"
   },
   "source": [
    "Do the same approach for the Boston:"
   ]
  },
  {
   "cell_type": "code",
   "execution_count": 35,
   "metadata": {
    "colab": {
     "base_uri": "https://localhost:8080/",
     "height": 69
    },
    "colab_type": "code",
    "id": "5dBJANTLtgBw",
    "outputId": "b3be9f91-4b18-40a0-81c2-bd24300c046e"
   },
   "outputs": [
    {
     "data": {
      "text/plain": [
       "Zoonder    453\n",
       "Name: company, dtype: int64"
      ]
     },
     "execution_count": 35,
     "metadata": {},
     "output_type": "execute_result"
    }
   ],
   "source": [
    "df1 = df[df.city == 'Boston']\n",
    "df1.company.value_counts()"
   ]
  },
  {
   "cell_type": "code",
   "execution_count": 36,
   "metadata": {
    "colab": {
     "base_uri": "https://localhost:8080/",
     "height": 520
    },
    "colab_type": "code",
    "id": "UR_z7Ul_h0t2",
    "outputId": "e615e79b-2f59-4891-d935-a18de81f979c"
   },
   "outputs": [
    {
     "data": {
      "text/plain": [
       "Avaveo            212\n",
       "Brainsphere      1241\n",
       "Bubblemix          54\n",
       "Buzzbean         1253\n",
       "Chatterbridge    1589\n",
       "Eimbee            498\n",
       "Flipstorm        1193\n",
       "Gabcube           356\n",
       "Gabtune            27\n",
       "Gevee              36\n",
       "Innojam            44\n",
       "Kanoodle          127\n",
       "Lajo              220\n",
       "Ntags            1515\n",
       "Realpoint         158\n",
       "Rhycero           204\n",
       "Riffpath          151\n",
       "Roodel            626\n",
       "Shufflebeat      1553\n",
       "Tagtune            12\n",
       "Teklist           428\n",
       "Thoughtmix       2795\n",
       "Twitterbeat      2267\n",
       "Voomm             250\n",
       "Wordify           970\n",
       "Yozio             653\n",
       "Zoonder           454\n",
       "Zooxo            1672\n",
       "Name: company, dtype: int64"
      ]
     },
     "execution_count": 36,
     "metadata": {},
     "output_type": "execute_result"
    }
   ],
   "source": [
    "df['company']=df['company'].str.replace(' -','Zoonder')\n",
    "df1 = df['company'].value_counts(dropna = False)\n",
    "df1.sort_index()"
   ]
  },
  {
   "cell_type": "markdown",
   "metadata": {
    "colab_type": "text",
    "id": "4i-KH35aqboX"
   },
   "source": [
    "Now, the company part is almost cleaned and is in the usable format, let's move and have a look on country section: "
   ]
  },
  {
   "cell_type": "markdown",
   "metadata": {},
   "source": [
    "### 'Country' Column:"
   ]
  },
  {
   "cell_type": "code",
   "execution_count": 38,
   "metadata": {
    "colab": {
     "base_uri": "https://localhost:8080/",
     "height": 277
    },
    "colab_type": "code",
    "id": "kAGUqva6qmQC",
    "outputId": "12384677-a62b-48de-df8e-172aab08ac13"
   },
   "outputs": [
    {
     "data": {
      "text/plain": [
       "France            3462\n",
       "Germany           1124\n",
       "Greece            1627\n",
       "Japan              159\n",
       "Netherlands        427\n",
       "Portuga              5\n",
       "Portugal          7379\n",
       "Spain             1425\n",
       "Switzerland         11\n",
       "Tyskland             1\n",
       "US                   1\n",
       "United Kingdom    1511\n",
       "United States     1255\n",
       "NaN               2171\n",
       "Name: country, dtype: int64"
      ]
     },
     "execution_count": 38,
     "metadata": {},
     "output_type": "execute_result"
    }
   ],
   "source": [
    "df1 = df['country'].value_counts(dropna = False)\n",
    "df1.sort_index()"
   ]
  },
  {
   "cell_type": "markdown",
   "metadata": {
    "colab_type": "text",
    "id": "mDr4I8RLBhxg"
   },
   "source": [
    "It is determined countries have a huge number of null values and to use dropna module, we will significantly reduce the number of observations. Our next tasks are to utilise the tools available to use to reduce the number of null values while we keep the reduction of the number of the observations at the minimum. "
   ]
  },
  {
   "cell_type": "markdown",
   "metadata": {
    "colab_type": "text",
    "id": "prK_V5mZq46S"
   },
   "source": [
    "Quickly resolving the obvious ones:"
   ]
  },
  {
   "cell_type": "code",
   "execution_count": 39,
   "metadata": {
    "colab": {
     "base_uri": "https://localhost:8080/",
     "height": 225
    },
    "colab_type": "code",
    "id": "1Khq8jo-q4nP",
    "outputId": "fb14c8ee-9336-4655-f69e-e2afa6a584b3"
   },
   "outputs": [
    {
     "data": {
      "text/plain": [
       "France            3462\n",
       "Germany           1125\n",
       "Greece            1627\n",
       "Japan              159\n",
       "Netherlands        427\n",
       "Portugal          7384\n",
       "Spain             1425\n",
       "Switzerland         11\n",
       "United Kingdom    1511\n",
       "United States     1256\n",
       "NaN               2171\n",
       "Name: country, dtype: int64"
      ]
     },
     "execution_count": 39,
     "metadata": {},
     "output_type": "execute_result"
    }
   ],
   "source": [
    "df['country'] = df['country'].str.replace('Portugal', 'TrueCountry')\n",
    "df['country'] = df['country'].str.replace('Portuga', 'Portugal')\n",
    "df['country'] = df['country'].str.replace('TrueCountry', 'Portugal')\n",
    "df['country'] = df['country'].str.replace('US', 'United States')\n",
    "df['country'] = df['country'].str.replace('Tyskland', 'Germany')\n",
    "df['city'] = df['city'].str.replace('Amadora\\t', 'Amadora')\n",
    "df1 = df['country'].value_counts(dropna=False)\n",
    "df1.sort_index()"
   ]
  },
  {
   "cell_type": "markdown",
   "metadata": {
    "colab_type": "text",
    "id": "aTyjdpmA5LRL"
   },
   "source": [
    "Now, we have about 2000 NaN country names, to figure out them we use the the city column and map the country based on it's corrosponding city names, therefore the condistions and choice help us to solvee this issue using the np.select."
   ]
  },
  {
   "cell_type": "code",
   "execution_count": 45,
   "metadata": {
    "colab": {},
    "colab_type": "code",
    "id": "hxv09fdn4NjT"
   },
   "outputs": [],
   "source": [
    "def mapcountry(df):\n",
    "  conditions = [\n",
    "    (df['city'] == 'Amadora'),\n",
    "    (df['city'] == 'Annecy'),\n",
    "    (df['city'] == 'Lisbon'),\n",
    "    (df['city'] == 'Porto'),\n",
    "    (df['city'] == 'Barcelona'),\n",
    "    (df['city'] == 'London'),\n",
    "    (df['city'] == 'Düsseldorf'),\n",
    "    (df['city'] == 'Braga'),\n",
    "    (df['city'] == 'New York'),\n",
    "    (df['city'] == 'Athens'),\n",
    "    (df['city'] == 'Aranhas'),\n",
    "    (df['city'] == 'Patras'),\n",
    "    (df['city'] == 'Boston'),\n",
    "    (df['city'] == 'Nanterre'),\n",
    "    (df['city'] == 'Amiens'),\n",
    "    (df['city'] == 'Arnhem'),\n",
    "    (df['city'] == 'Almada'),\n",
    "    (df['city'] == 'Nice'),\n",
    "    (df['city'] == 'Paris'),\n",
    "    (df['city'] == 'Arcueil'),\n",
    "    (df['city'] == 'Heraklion'),\n",
    "    (df['city'] == 'Thessaloniki'),\n",
    "    (df['city'] == 'Niihama'),\n",
    "    (df['city'] == 'Nice'),\n",
    "    (df['city'] == 'Asaka'),\n",
    "    (df['city'] == 'Amsterdam'),\n",
    "    (df['city'] == 'Lisbon'),\n",
    "    (df['city'] == 'Lyon'),\n",
    "    (df['city'] == 'Champagnole'),\n",
    "    (df['city'] == 'Zürich')]\n",
    "  choices = ['Portugal', 'France', 'Portugal','Portugal','Spain',\n",
    "           'United Kingdom','Germany','Portugal','United States',\n",
    "           'Greece','Portugal','Greece','United States','France',\n",
    "           'France','Netherlands','Spain','France','France','France','Greece',\n",
    "           'Greece','Japan','France','Japan','Netherlands','Purtgal',\n",
    "           'France','France','Switzerland']\n",
    "  df['country'] = np.select(conditions, choices, default =df['country']) #'Purtgal'\n",
    "  return df\n"
   ]
  },
  {
   "cell_type": "code",
   "execution_count": 46,
   "metadata": {
    "colab": {},
    "colab_type": "code",
    "id": "tZJtS7Pe6mWf"
   },
   "outputs": [],
   "source": [
    "df = mapcountry(df)"
   ]
  },
  {
   "cell_type": "code",
   "execution_count": 47,
   "metadata": {
    "colab": {
     "base_uri": "https://localhost:8080/",
     "height": 139
    },
    "colab_type": "code",
    "id": "x7ybNTGcsCna",
    "outputId": "05df1727-93c5-4e71-e2b1-536ee375a433"
   },
   "outputs": [
    {
     "data": {
      "text/plain": [
       "part       0\n",
       "company    0\n",
       "country    0\n",
       "city       0\n",
       "price      1\n",
       "date       0\n",
       "dtype: int64"
      ]
     },
     "execution_count": 47,
     "metadata": {},
     "output_type": "execute_result"
    }
   ],
   "source": [
    "df.isnull().sum(axis=0)"
   ]
  },
  {
   "cell_type": "markdown",
   "metadata": {
    "colab_type": "text",
    "id": "A0DzzwRs53Uq"
   },
   "source": [
    "Now, we have around the 33 Nan for the city names, yet we have the representative company- again we use the same as previous approcah to get the city based on the company names."
   ]
  },
  {
   "cell_type": "code",
   "execution_count": 43,
   "metadata": {
    "colab": {},
    "colab_type": "code",
    "id": "eJRR-BMrtxyF"
   },
   "outputs": [],
   "source": [
    "conditions = [(df['company'] == 'Thoughtmix'), (df['company'] == 'Ntags'),\n",
    "              (df['company'] == 'Brainsphere'),\n",
    "              (df['company'] == 'Shufflebeat'), (df['company'] == 'Zooxo'),\n",
    "              (df['company'] == 'Yozio'), (df['company'] == 'Teklist'),\n",
    "              (df['company'] == 'Wordify'), (df['company'] == 'Zoonder'),\n",
    "              (df['company'] == 'Twitterbeat'), (df['company'] == 'Kanoodle')]\n",
    "choices = [\n",
    "    'Amadora', 'Lisbon', 'Braga', 'Porto', 'London', 'Patras', 'Arnhem',\n",
    "    'New York', 'Boston', 'Annecy', 'Niihama'\n",
    "]\n",
    "df['city'] = np.select(conditions, choices, default=df['city'])"
   ]
  },
  {
   "cell_type": "code",
   "execution_count": 48,
   "metadata": {
    "colab": {
     "base_uri": "https://localhost:8080/",
     "height": 139
    },
    "colab_type": "code",
    "id": "gbU1ZIzTxfZP",
    "outputId": "1f6330ab-5440-4c4a-bb60-5f811cb143ed"
   },
   "outputs": [
    {
     "data": {
      "text/plain": [
       "part       0\n",
       "company    0\n",
       "country    0\n",
       "city       0\n",
       "price      1\n",
       "date       0\n",
       "dtype: int64"
      ]
     },
     "execution_count": 48,
     "metadata": {},
     "output_type": "execute_result"
    }
   ],
   "source": [
    "df.isnull().sum(axis=0)"
   ]
  },
  {
   "cell_type": "markdown",
   "metadata": {
    "colab_type": "text",
    "id": "dbZRHvag7C7i"
   },
   "source": [
    "Now taht we have the city names, we use the countrymap to figure out the country names:"
   ]
  },
  {
   "cell_type": "code",
   "execution_count": 49,
   "metadata": {
    "colab": {},
    "colab_type": "code",
    "id": "0U3HdG7Z7Qc3"
   },
   "outputs": [],
   "source": [
    "df = mapcountry(df)"
   ]
  },
  {
   "cell_type": "code",
   "execution_count": 50,
   "metadata": {
    "colab": {
     "base_uri": "https://localhost:8080/",
     "height": 139
    },
    "colab_type": "code",
    "id": "jJfePDu97Tbt",
    "outputId": "85bde68e-7587-487d-b5e8-bb1485e7df74"
   },
   "outputs": [
    {
     "data": {
      "text/plain": [
       "part       0\n",
       "company    0\n",
       "country    0\n",
       "city       0\n",
       "price      1\n",
       "date       0\n",
       "dtype: int64"
      ]
     },
     "execution_count": 50,
     "metadata": {},
     "output_type": "execute_result"
    }
   ],
   "source": [
    "df.isnull().sum(axis=0)"
   ]
  },
  {
   "cell_type": "markdown",
   "metadata": {
    "colab_type": "text",
    "id": "jR-71TNn7ZC1"
   },
   "source": [
    "Above we can see that we minimum deletion, we only have one Nan in the price- Now we should go to the price column, but we go the date since we need clean date for the price."
   ]
  },
  {
   "cell_type": "markdown",
   "metadata": {
    "colab_type": "text",
    "id": "4Ri0ZTe4z6Lg"
   },
   "source": [
    "###  'date' column"
   ]
  },
  {
   "cell_type": "markdown",
   "metadata": {
    "colab_type": "text",
    "id": "7l4aAZWF7_wx"
   },
   "source": [
    "The problem we figured out in converting the date as object column to datetime was the two of the rows had the day 32 on june, so we assumed that it could be the 2 of July, instead of 32 June."
   ]
  },
  {
   "cell_type": "code",
   "execution_count": 51,
   "metadata": {
    "colab": {
     "base_uri": "https://localhost:8080/",
     "height": 106
    },
    "colab_type": "code",
    "id": "hC2DMy6hcSht",
    "outputId": "52d41945-2376-4f0f-968a-fdead0f36583"
   },
   "outputs": [
    {
     "data": {
      "text/html": [
       "<div>\n",
       "<style scoped>\n",
       "    .dataframe tbody tr th:only-of-type {\n",
       "        vertical-align: middle;\n",
       "    }\n",
       "\n",
       "    .dataframe tbody tr th {\n",
       "        vertical-align: top;\n",
       "    }\n",
       "\n",
       "    .dataframe thead th {\n",
       "        text-align: right;\n",
       "    }\n",
       "</style>\n",
       "<table border=\"1\" class=\"dataframe\">\n",
       "  <thead>\n",
       "    <tr style=\"text-align: right;\">\n",
       "      <th></th>\n",
       "      <th>part</th>\n",
       "      <th>company</th>\n",
       "      <th>country</th>\n",
       "      <th>city</th>\n",
       "      <th>price</th>\n",
       "      <th>date</th>\n",
       "    </tr>\n",
       "  </thead>\n",
       "  <tbody>\n",
       "    <tr>\n",
       "      <th>3539</th>\n",
       "      <td>17156-617</td>\n",
       "      <td>Thoughtmix</td>\n",
       "      <td>Portugal</td>\n",
       "      <td>Amadora</td>\n",
       "      <td>791.86€</td>\n",
       "      <td>2016-07-02 07:22:28</td>\n",
       "    </tr>\n",
       "    <tr>\n",
       "      <th>3540</th>\n",
       "      <td>54868-5165</td>\n",
       "      <td>Shufflebeat</td>\n",
       "      <td>Portugal</td>\n",
       "      <td>Porto</td>\n",
       "      <td>525.24€</td>\n",
       "      <td>2016-07-02 08:08:48</td>\n",
       "    </tr>\n",
       "  </tbody>\n",
       "</table>\n",
       "</div>"
      ],
      "text/plain": [
       "            part      company   country     city    price                date\n",
       "3539   17156-617   Thoughtmix  Portugal  Amadora  791.86€ 2016-07-02 07:22:28\n",
       "3540  54868-5165  Shufflebeat  Portugal    Porto  525.24€ 2016-07-02 08:08:48"
      ]
     },
     "execution_count": 51,
     "metadata": {},
     "output_type": "execute_result"
    }
   ],
   "source": [
    "df['date'] = df['date'].str.replace('2016-06-32 07:22:28',\n",
    "                                    '2016-07-2 07:22:28')\n",
    "df['date'] = df['date'].str.replace('2016-06-32 08:08:48',\n",
    "                                    '2016-07-2 08:08:48')\n",
    "df['date'] = df['date'].astype('datetime64[ns]')\n",
    "df[3539:3541]"
   ]
  },
  {
   "cell_type": "markdown",
   "metadata": {
    "colab_type": "text",
    "id": "Bfo-NsL-8KBd"
   },
   "source": [
    "# Part 2: Enriching the data"
   ]
  },
  {
   "cell_type": "markdown",
   "metadata": {
    "colab_type": "text",
    "id": "QUVVLm9S8Z_F"
   },
   "source": [
    "Now, the price column must be modified to have all data on single currency, to do that we assume that:\n",
    "* The rows with Na, void, and - is removed since has no specific information\n",
    "* Assume that the negative sign has been written by mistake, so we make them positive.\n",
    "\n",
    "Then, the cleanfinal_float shows the column with price data in float format."
   ]
  },
  {
   "cell_type": "code",
   "execution_count": 52,
   "metadata": {
    "colab": {
     "base_uri": "https://localhost:8080/",
     "height": 72
    },
    "colab_type": "code",
    "id": "4HzmOrIQt4C_",
    "outputId": "72a12fe3-a4db-4aa3-c39c-78e6ae50a09c"
   },
   "outputs": [
    {
     "name": "stderr",
     "output_type": "stream",
     "text": [
      "c:\\users\\peymankor\\miniconda3\\lib\\site-packages\\ipykernel_launcher.py:3: UserWarning: Boolean Series key will be reindexed to match DataFrame index.\n",
      "  This is separate from the ipykernel package so we can avoid doing imports until\n"
     ]
    }
   ],
   "source": [
    "df.dropna(subset=['price'], inplace=True)\n",
    "newdf = df[df.price != 'void']\n",
    "newdf = newdf[df.price != '-']\n",
    "newdf = newdf[newdf.price != 'na']\n",
    "newdf['Clean_Price'] = newdf['price'].str.replace('€', '').str.replace(\n",
    "    '£', '').str.replace('$', '').str.replace('¥', '').str.replace('-', '')\n",
    "newdf['Cleanfinal_float'] = newdf.Clean_Price.astype(str).astype(float)"
   ]
  },
  {
   "cell_type": "markdown",
   "metadata": {
    "colab_type": "text",
    "id": "-KOne42j8_XH"
   },
   "source": [
    "Here, we make division to the price data so that, in the next section we could use the appropriate api to find the conversation rate."
   ]
  },
  {
   "cell_type": "code",
   "execution_count": 53,
   "metadata": {
    "colab": {
     "base_uri": "https://localhost:8080/",
     "height": 50
    },
    "colab_type": "code",
    "id": "oM3UhkacuGuB",
    "outputId": "9ee0b514-aa9b-416f-99e3-458ada8a6ba6"
   },
   "outputs": [],
   "source": [
    "df_pond = newdf[newdf.price.str.contains('£')]\n",
    "df_pond = df_pond.reset_index(drop=True)\n",
    "\n",
    "df_yen = newdf[newdf.price.str.contains('¥')]\n",
    "df_yen = df_yen.reset_index(drop=True)\n",
    "\n",
    "df_dolar = newdf[newdf.price.str.contains('\\$')]\n",
    "df_dolar = df_dolar.reset_index(drop=True)\n",
    "\n",
    "df_euro = newdf[newdf.price.str.contains('€')]\n",
    "df_euro = df_euro.reset_index(drop=True)"
   ]
  },
  {
   "cell_type": "markdown",
   "metadata": {
    "colab_type": "text",
    "id": "n9UEw4Nl9SaF"
   },
   "source": [
    "The below function find the rate of change for aother currencies at each day (unique days), and save them in the new column named conversion."
   ]
  },
  {
   "cell_type": "code",
   "execution_count": 54,
   "metadata": {
    "colab": {},
    "colab_type": "code",
    "id": "l1EIK-OMuNUm"
   },
   "outputs": [],
   "source": [
    "def apiconversion(currency, df):\n",
    "    df.loc[:, 'Conversion'] = 0\n",
    "    address = 'https://api.exchangeratesapi.io/YY-MM-DD?symbols=CURRENCY'\n",
    "    XTime = address.replace('CURRENCY', currency)\n",
    "    saveddate = '111111'\n",
    "    for index in range(len(df)):\n",
    "        YY = df.date.iloc[index].year\n",
    "        MM = df.date.iloc[index].month\n",
    "        DD = df.date.iloc[index].day\n",
    "        X_YY = XTime.replace('YY', str(YY))\n",
    "        X_YY_MM = X_YY.replace('MM', str(MM))\n",
    "        X_YY_MM_DD = X_YY_MM.replace('DD', str(DD))\n",
    "        date = str(YY) + str(MM) + str(DD)\n",
    "        if date == saveddate:\n",
    "            df.loc[index, 'Conversion'] = savedrate\n",
    "        else:\n",
    "            saveddate = str(YY) + str(MM) + str(DD)\n",
    "            r_s = requests.get(X_YY_MM_DD)\n",
    "            json_response = r_s.json()\n",
    "            data_ratio = json_response\n",
    "            savedrate = data_ratio['rates'][currency]\n",
    "            df.loc[index, 'Conversion'] = savedrate\n",
    "    return df"
   ]
  },
  {
   "cell_type": "code",
   "execution_count": 55,
   "metadata": {
    "colab": {},
    "colab_type": "code",
    "id": "YVReow52uDJW"
   },
   "outputs": [],
   "source": [
    "df_pond_conversion = apiconversion('GBP', df_pond)\n",
    "df_dolar_conversion = apiconversion('USD', df_dolar)\n",
    "df_yen_conversion = apiconversion('JPY', df_yen)"
   ]
  },
  {
   "cell_type": "markdown",
   "metadata": {
    "colab_type": "text",
    "id": "bEnDu_WJ9jvk"
   },
   "source": [
    "Dividing the the price in another currencie to the rate of change to have one unique final currency, Euro."
   ]
  },
  {
   "cell_type": "code",
   "execution_count": 57,
   "metadata": {
    "colab": {},
    "colab_type": "code",
    "id": "23jDBaTeuZfh"
   },
   "outputs": [],
   "source": [
    "df_dolar_conversion['Price_euro'] = df_dolar_conversion[\n",
    "    'Cleanfinal_float'] / df_dolar_conversion['Conversion']\n",
    "df_pond_conversion['Price_euro'] = df_pond_conversion[\n",
    "    'Cleanfinal_float'] / df_pond_conversion['Conversion']\n",
    "df_yen_conversion['Price_euro'] = df_yen_conversion[\n",
    "    'Cleanfinal_float'] / df_yen_conversion['Conversion']\n",
    "df_euro['Price_euro'] = df_euro['Cleanfinal_float']"
   ]
  },
  {
   "cell_type": "code",
   "execution_count": 58,
   "metadata": {
    "colab": {},
    "colab_type": "code",
    "id": "fjdfVJmLu4Wp"
   },
   "outputs": [],
   "source": [
    "DF_euro = df_euro[[\n",
    "    'part', 'company', 'country', 'city', 'price', 'date', 'Price_euro'\n",
    "]]\n",
    "DF_pond = df_pond_conversion[[\n",
    "    'part', 'company', 'country', 'city', 'price', 'date', 'Price_euro'\n",
    "]]\n",
    "DF_dolar = df_dolar_conversion[[\n",
    "    'part', 'company', 'country', 'city', 'price', 'date', 'Price_euro'\n",
    "]]\n",
    "DF_yen = df_yen_conversion[[\n",
    "    'part', 'company', 'country', 'city', 'price', 'date', 'Price_euro'\n",
    "]]"
   ]
  },
  {
   "cell_type": "markdown",
   "metadata": {
    "colab_type": "text",
    "id": "gaEYz2JA9zRp"
   },
   "source": [
    "The DF is the clean data ready for building datatable."
   ]
  },
  {
   "cell_type": "code",
   "execution_count": 59,
   "metadata": {
    "colab": {
     "base_uri": "https://localhost:8080/",
     "height": 1000
    },
    "colab_type": "code",
    "id": "Nx2OAehxu6v_",
    "outputId": "b2c574cf-0fd6-4581-ffa1-559c4c4bccd2"
   },
   "outputs": [],
   "source": [
    "DF = DF_euro.append([DF_pond, DF_dolar, DF_yen])"
   ]
  },
  {
   "cell_type": "code",
   "execution_count": 114,
   "metadata": {
    "colab": {
     "base_uri": "https://localhost:8080/",
     "height": 1000
    },
    "colab_type": "code",
    "id": "4F2Nl88-4nlt",
    "outputId": "2cf71559-1016-4201-aa2f-1fbb2e0facba"
   },
   "outputs": [
    {
     "data": {
      "text/html": [
       "<div>\n",
       "<style scoped>\n",
       "    .dataframe tbody tr th:only-of-type {\n",
       "        vertical-align: middle;\n",
       "    }\n",
       "\n",
       "    .dataframe tbody tr th {\n",
       "        vertical-align: top;\n",
       "    }\n",
       "\n",
       "    .dataframe thead th {\n",
       "        text-align: right;\n",
       "    }\n",
       "</style>\n",
       "<table border=\"1\" class=\"dataframe\">\n",
       "  <thead>\n",
       "    <tr style=\"text-align: right;\">\n",
       "      <th></th>\n",
       "      <th>part</th>\n",
       "      <th>company</th>\n",
       "      <th>country</th>\n",
       "      <th>city</th>\n",
       "      <th>price</th>\n",
       "      <th>date</th>\n",
       "      <th>Price_euro</th>\n",
       "    </tr>\n",
       "    <tr>\n",
       "      <th>id</th>\n",
       "      <th></th>\n",
       "      <th></th>\n",
       "      <th></th>\n",
       "      <th></th>\n",
       "      <th></th>\n",
       "      <th></th>\n",
       "      <th></th>\n",
       "    </tr>\n",
       "  </thead>\n",
       "  <tbody>\n",
       "    <tr>\n",
       "      <th>0</th>\n",
       "      <td>54868-5165</td>\n",
       "      <td>Chatterbridge</td>\n",
       "      <td>Spain</td>\n",
       "      <td>Barcelona</td>\n",
       "      <td>784.79€</td>\n",
       "      <td>2016-01-02 00:01:05</td>\n",
       "      <td>784.79</td>\n",
       "    </tr>\n",
       "    <tr>\n",
       "      <th>1</th>\n",
       "      <td>60505-2867</td>\n",
       "      <td>Lajo</td>\n",
       "      <td>Greece</td>\n",
       "      <td>Thessaloniki</td>\n",
       "      <td>187.99€</td>\n",
       "      <td>2016-01-02 00:05:26</td>\n",
       "      <td>187.99</td>\n",
       "    </tr>\n",
       "    <tr>\n",
       "      <th>2</th>\n",
       "      <td>24385-268</td>\n",
       "      <td>Flipstorm</td>\n",
       "      <td>Greece</td>\n",
       "      <td>Athens</td>\n",
       "      <td>221.73€</td>\n",
       "      <td>2016-01-02 00:18:30</td>\n",
       "      <td>221.73</td>\n",
       "    </tr>\n",
       "    <tr>\n",
       "      <th>3</th>\n",
       "      <td>76117-001</td>\n",
       "      <td>Twitterbeat</td>\n",
       "      <td>France</td>\n",
       "      <td>Annecy</td>\n",
       "      <td>1075.82€</td>\n",
       "      <td>2016-01-02 02:32:30</td>\n",
       "      <td>1075.82</td>\n",
       "    </tr>\n",
       "    <tr>\n",
       "      <th>4</th>\n",
       "      <td>44946-1046</td>\n",
       "      <td>Chatterbridge</td>\n",
       "      <td>Spain</td>\n",
       "      <td>Barcelona</td>\n",
       "      <td>412.55€</td>\n",
       "      <td>2016-01-02 04:51:55</td>\n",
       "      <td>412.55</td>\n",
       "    </tr>\n",
       "  </tbody>\n",
       "</table>\n",
       "</div>"
      ],
      "text/plain": [
       "          part        company country          city     price  \\\n",
       "id                                                              \n",
       "0   54868-5165  Chatterbridge   Spain     Barcelona   784.79€   \n",
       "1   60505-2867           Lajo  Greece  Thessaloniki   187.99€   \n",
       "2    24385-268      Flipstorm  Greece        Athens   221.73€   \n",
       "3    76117-001    Twitterbeat  France        Annecy  1075.82€   \n",
       "4   44946-1046  Chatterbridge   Spain     Barcelona   412.55€   \n",
       "\n",
       "                  date  Price_euro  \n",
       "id                                  \n",
       "0  2016-01-02 00:01:05      784.79  \n",
       "1  2016-01-02 00:05:26      187.99  \n",
       "2  2016-01-02 00:18:30      221.73  \n",
       "3  2016-01-02 02:32:30     1075.82  \n",
       "4  2016-01-02 04:51:55      412.55  "
      ]
     },
     "execution_count": 114,
     "metadata": {},
     "output_type": "execute_result"
    }
   ],
   "source": [
    "DF['id'] = np.arange(len(DF))\n",
    "DF.set_index('id').head()"
   ]
  },
  {
   "cell_type": "markdown",
   "metadata": {},
   "source": [
    "## Visulization"
   ]
  },
  {
   "cell_type": "code",
   "execution_count": 89,
   "metadata": {},
   "outputs": [],
   "source": [
    "def plot_count_barplot(feature, value, title, df, size=1):\n",
    "    f, ax = plt.subplots(1, 1, figsize=(4 * size, 8))\n",
    "    g = sns.barplot(df[feature], df[value], palette='Set3')\n",
    "    g.set_title(\"{}\".format(title))\n",
    "    ax.set_xticklabels(ax.get_xticklabels(), rotation=90)\n",
    "    plt.show()"
   ]
  },
  {
   "cell_type": "code",
   "execution_count": 62,
   "metadata": {},
   "outputs": [],
   "source": [
    "df_sum_company = DF.groupby(\"company\")[\"Price_euro\"].sum().sort_values(\n",
    "    ascending=False).reset_index()\n",
    "df_sum_country = DF.groupby(\"country\")[\"Price_euro\"].sum().sort_values(\n",
    "    ascending=False).reset_index()"
   ]
  },
  {
   "cell_type": "code",
   "execution_count": 90,
   "metadata": {},
   "outputs": [
    {
     "data": {
      "image/png": "[encoded data removed]",
      "text/plain": [
       "<Figure size 1152x576 with 1 Axes>"
      ]
     },
     "metadata": {
      "needs_background": "light"
     },
     "output_type": "display_data"
    },
    {
     "data": {
      "image/png": "[encoded data removed]",
      "text/plain": [
       "<Figure size 1152x576 with 1 Axes>"
      ]
     },
     "metadata": {
      "needs_background": "light"
     },
     "output_type": "display_data"
    }
   ],
   "source": [
    "plot_count_barplot('country',\n",
    "                   'Price_euro',\n",
    "                   \"Sum of Transaction Based Group by Country\",\n",
    "                   df_sum_country,\n",
    "                   size=4)\n",
    "plot_count_barplot('company',\n",
    "                   'Price_euro',\n",
    "                   \"Sum of Transaction Based Group by Transaction\",\n",
    "                   df_sum_company,\n",
    "                   size=4)"
   ]
  },
  {
   "cell_type": "code",
   "execution_count": 69,
   "metadata": {},
   "outputs": [],
   "source": [
    "df_sum_date = DF.groupby(\"date\")[\"Price_euro\"].sum().sort_values(\n",
    "    ascending=False).reset_index()"
   ]
  },
  {
   "cell_type": "code",
   "execution_count": 98,
   "metadata": {},
   "outputs": [
    {
     "data": {
      "text/html": [
       "<div>\n",
       "<style scoped>\n",
       "    .dataframe tbody tr th:only-of-type {\n",
       "        vertical-align: middle;\n",
       "    }\n",
       "\n",
       "    .dataframe tbody tr th {\n",
       "        vertical-align: top;\n",
       "    }\n",
       "\n",
       "    .dataframe thead th {\n",
       "        text-align: right;\n",
       "    }\n",
       "</style>\n",
       "<table border=\"1\" class=\"dataframe\">\n",
       "  <thead>\n",
       "    <tr style=\"text-align: right;\">\n",
       "      <th></th>\n",
       "      <th>date</th>\n",
       "      <th>Price_euro</th>\n",
       "      <th>id</th>\n",
       "    </tr>\n",
       "  </thead>\n",
       "  <tbody>\n",
       "    <tr>\n",
       "      <th>0</th>\n",
       "      <td>2016-01-31</td>\n",
       "      <td>573.776888</td>\n",
       "      <td>2451.446003</td>\n",
       "    </tr>\n",
       "    <tr>\n",
       "      <th>1</th>\n",
       "      <td>2016-02-29</td>\n",
       "      <td>567.279007</td>\n",
       "      <td>2982.066667</td>\n",
       "    </tr>\n",
       "    <tr>\n",
       "      <th>2</th>\n",
       "      <td>2016-03-31</td>\n",
       "      <td>561.534238</td>\n",
       "      <td>3121.344428</td>\n",
       "    </tr>\n",
       "    <tr>\n",
       "      <th>3</th>\n",
       "      <td>2016-04-30</td>\n",
       "      <td>604.054202</td>\n",
       "      <td>4436.057632</td>\n",
       "    </tr>\n",
       "    <tr>\n",
       "      <th>4</th>\n",
       "      <td>2016-05-31</td>\n",
       "      <td>549.176863</td>\n",
       "      <td>4973.472727</td>\n",
       "    </tr>\n",
       "  </tbody>\n",
       "</table>\n",
       "</div>"
      ],
      "text/plain": [
       "        date  Price_euro           id\n",
       "0 2016-01-31  573.776888  2451.446003\n",
       "1 2016-02-29  567.279007  2982.066667\n",
       "2 2016-03-31  561.534238  3121.344428\n",
       "3 2016-04-30  604.054202  4436.057632\n",
       "4 2016-05-31  549.176863  4973.472727"
      ]
     },
     "execution_count": 98,
     "metadata": {},
     "output_type": "execute_result"
    }
   ],
   "source": [
    "DF['date'] = pd.to_datetime(DF['date'])\n",
    "DF.index = DF['date']\n",
    "df_mean_mounth = DF.resample('M').mean().reset_index()\n",
    "df_mean_mounth.head()\n",
    "#df_mean_mounth.info()"
   ]
  },
  {
   "cell_type": "code",
   "execution_count": 110,
   "metadata": {},
   "outputs": [],
   "source": [
    "def plot_count_line(feature, value, title, df, size=1):\n",
    "    f, ax = plt.subplots(1, 1, figsize=(4 * size, 4))\n",
    "    g = sns.lineplot(df[feature], df[value], palette='Set3')\n",
    "    g.set_title(\"Number of {}\".format(title))\n",
    "    plt.draw()\n",
    "    ax.set_xticklabels(ax.get_xticklabels(), rotation=90)\n",
    "    plt.show()"
   ]
  },
  {
   "cell_type": "code",
   "execution_count": 111,
   "metadata": {},
   "outputs": [
    {
     "data": {
      "image/png": "[encoded data removed]",
      "text/plain": [
       "<Figure size 1152x288 with 1 Axes>"
      ]
     },
     "metadata": {
      "needs_background": "light"
     },
     "output_type": "display_data"
    }
   ],
   "source": [
    "plot_count_line('date',\n",
    "                'Price_euro',\n",
    "                'Mean Sale per Mounth',\n",
    "                df_mean_mounth,\n",
    "                size=4)"
   ]
  },
  {
   "cell_type": "markdown",
   "metadata": {
    "colab_type": "text",
    "id": "Cp17SyVGz0TI"
   },
   "source": [
    "---\n",
    "## Part 3: Creating a database\n",
    "Storing data in a relational database has the advantages that it is persistent, fast to query, and it will be easier access for other employees at Weyland-Yutani.\n",
    "\n",
    "In this part you should:\n",
    "- Create a database and table(s) for the data\n",
    "- Insert data into the tables\n",
    "\n",
    "You may use SQLite locally to do this. You should argue why you choose to store your data the way you do. "
   ]
  },
  {
   "cell_type": "code",
   "execution_count": 134,
   "metadata": {
    "colab": {},
    "colab_type": "code",
    "id": "EPHgY6pa0htL"
   },
   "outputs": [],
   "source": [
    "import sqlite3\n",
    "from sqlite3 import Error\n",
    "sqlite3.connect('costumer_new.db')\n",
    "\n",
    "\n",
    "def create_connection(db_file):\n",
    "    \"\"\" create a database connection to the SQLite database\n",
    "        specified by db_file\n",
    "    :param db_file: database file\n",
    "    :return: Connection object or None\n",
    "    \"\"\"\n",
    "    conn = None\n",
    "    try:\n",
    "        conn = sqlite3.connect(db_file)\n",
    "        return conn\n",
    "    except Error as e:\n",
    "        print(e)\n",
    "\n",
    "    return conn"
   ]
  },
  {
   "cell_type": "code",
   "execution_count": 135,
   "metadata": {
    "colab": {},
    "colab_type": "code",
    "id": "PkRl3oZG028K"
   },
   "outputs": [],
   "source": [
    "def create_table(conn, create_table_sql):\n",
    "    \"\"\" create a table from the create_table_sql statement\n",
    "    :param conn: Connection object\n",
    "    :param create_table_sql: a CREATE TABLE statement\n",
    "    :return:\n",
    "    \"\"\"\n",
    "    try:\n",
    "        c = conn.cursor()\n",
    "        c.execute(create_table_sql)\n",
    "    except Error as e:\n",
    "        print(e)"
   ]
  },
  {
   "cell_type": "code",
   "execution_count": 136,
   "metadata": {
    "colab": {},
    "colab_type": "code",
    "id": "ZuK0AHJSDGH7"
   },
   "outputs": [],
   "source": [
    "def create_client(conn, client):\n",
    "    \"\"\"\n",
    "    Create a new client into the clients table\n",
    "    :param conn:\n",
    "    :param client:\n",
    "    :return: client id\n",
    "    \"\"\"\n",
    "    sql = ''' INSERT INTO clients(name,country,city)\n",
    "              VALUES(?,?,?) '''\n",
    "    cur = conn.cursor()\n",
    "    cur.execute(sql, client)\n",
    "    return cur.lastrowid"
   ]
  },
  {
   "cell_type": "code",
   "execution_count": 137,
   "metadata": {
    "colab": {},
    "colab_type": "code",
    "id": "X2yrICwfbC8i"
   },
   "outputs": [],
   "source": [
    "def create_transaction(conn, transaction):\n",
    "    \"\"\"\n",
    "    Create a new transaction into the transactions table\n",
    "    :param conn:\n",
    "    :param transaction:\n",
    "    :return: transaction id\n",
    "    \"\"\"\n",
    "    sql = ''' INSERT INTO transactions(number,product,amount,date,company)\n",
    "              VALUES(?,?,?,?,?) '''\n",
    "    cur = conn.cursor()\n",
    "    cur.execute(sql, transaction)\n",
    "    return cur.lastrowid"
   ]
  },
  {
   "cell_type": "code",
   "execution_count": 138,
   "metadata": {
    "colab": {},
    "colab_type": "code",
    "id": "NT2y0hnw0Alv"
   },
   "outputs": [],
   "source": [
    "database = r\"C:\\\\Users\\\\PeymanKor\\\\OneDrive - Danmarks Tekniske Universitet\\\\DTU Courses\\\\Computational Tools\\costumer_new.db\"\n",
    "\n",
    "sql_create_projects_table = \"\"\" CREATE TABLE IF NOT EXISTS clients (\n",
    "                                        name text NOT NULL PRIMARY KEY,\n",
    "                                        country text,\n",
    "                                        city text\n",
    "                                    ); \"\"\"\n",
    "\n",
    "sql_create_tasks_table = \"\"\"CREATE TABLE IF NOT EXISTS transactions (\n",
    "                                    number text PRIMARY KEY,\n",
    "                                    product text,\n",
    "                                    amount double,\n",
    "                                    date date,\n",
    "                                    company text,\n",
    "                                    FOREIGN KEY (company) REFERENCES clients (name)\n",
    "                                );\"\"\"\n",
    "\n",
    "# create a database connection\n",
    "conn = create_connection(database)\n",
    "\n",
    "# create tables\n",
    "if conn is not None:\n",
    "    # create clients table\n",
    "    create_table(conn, sql_create_projects_table)\n",
    "\n",
    "    # create transactions table\n",
    "    create_table(conn, sql_create_tasks_table)\n",
    "else:\n",
    "    print(\"Error! cannot create the database connection.\")\n",
    "\n",
    "#Now lets insert the data in our tables\n",
    "#First we start inserting the clients\n",
    "# We get a unique row for every company to fill the companies table\n",
    "df_company = DF.drop_duplicates('company')\n",
    "for index, row in df_company.iterrows():\n",
    "    client_command = (row['company'], row['country'], row['city'])\n",
    "    client_id = create_client(conn, client_command)\n",
    "\n",
    "#Now we insert the transactions\n",
    "for index, row in DF.iterrows():\n",
    "    transaction_command = (row['id'], row['part'], row['Price_euro'],\n",
    "                           row['date'].strftime('%Y-%m-%d'), row['company'])\n",
    "    transaction_id = create_transaction(conn, transaction_command)\n",
    "\n",
    "# Save (commit) the changes\n",
    "conn.commit()\n",
    "\n",
    "# We can also close the connection if we are done with it.\n",
    "# Just be sure any changes have been committed or they will be lost.\n",
    "conn.close()\n",
    "#     cur = conn.cursor()\n",
    "#     cur.execute(\"SELECT * FROM clients\")\n",
    "\n",
    "#     rows = cur.fetchall()\n",
    "\n",
    "#     for row in rows:\n",
    "#         print(row)"
   ]
  },
  {
   "cell_type": "code",
   "execution_count": 139,
   "metadata": {
    "colab": {
     "base_uri": "https://localhost:8080/",
     "height": 1000
    },
    "colab_type": "code",
    "id": "GVczcEzI5O9x",
    "outputId": "f95aad0b-a523-4323-a0b6-59f294fd9e3e"
   },
   "outputs": [
    {
     "name": "stdout",
     "output_type": "stream",
     "text": [
      "('0', '54868-5165', 784.79, '2016-01-02', 'Chatterbridge')\n",
      "('1', '60505-2867', 187.99, '2016-01-02', 'Lajo')\n",
      "('2', '24385-268', 221.73, '2016-01-02', 'Flipstorm')\n",
      "('3', '76117-001', 1075.82, '2016-01-02', 'Twitterbeat')\n",
      "('4', '44946-1046', 412.55, '2016-01-02', 'Chatterbridge')\n",
      "('5', '16729-167', 359.52, '2016-01-02', 'Chatterbridge')\n",
      "('6', '52125-444', 266.62, '2016-01-02', 'Voomm')\n",
      "('7', '43419-018', 103.45, '2016-01-02', 'Buzzbean')\n",
      "('8', '24286-1562', 317.65, '2016-01-02', 'Lajo')\n",
      "('9', '49035-530', 841.97, '2016-01-02', 'Flipstorm')\n"
     ]
    }
   ],
   "source": [
    "database = r\"C:\\\\Users\\\\PeymanKor\\\\OneDrive - Danmarks Tekniske Universitet\\\\DTU Courses\\\\Computational Tools\\costumer_new.db\"\n",
    "conn = create_connection(database)\n",
    "\n",
    "cur = conn.cursor()\n",
    "cur.execute(\"SELECT * FROM transactions\")\n",
    "\n",
    "rows = cur.fetchall()\n",
    "for row in rows[0:10]:\n",
    "    print(row)\n",
    "\n",
    "conn.commit()\n",
    "conn.close()"
   ]
  },
  {
   "cell_type": "markdown",
   "metadata": {
    "colab_type": "text",
    "id": "yN8pZkD1J2iQ"
   },
   "source": [
    "---\n",
    "## Part 4: Analyzing the data\n",
    "You are now ready to analyze the data. Your goal is to gain some actionable business insights to present to your boss. \n",
    "\n",
    "In this part, you should ask some questions and try to answer them based on the data. You should write SQL queries to retrieve the data. For each question, you should state why it is relevant and what you expect to find.\n",
    "\n",
    "To get you started, you should prepare answers to the following questions. You should add more questions.\n",
    "#### Who are the most profitable clients?\n",
    "Knowing which clients that generate the most revenue for the company will assist your boss in distributing customer service ressources.\n",
    "\n",
    "#### Are there any clients for which profit is declining?\n",
    "Declining profit from a specific client may indicate that the client is disatisfied with the product. Gaining a new client is often much more work than retaining one. Early warnings about declining profit may help your boss fighting customer churn.\n",
    "\n",
    "\n",
    "Remember, you are taking this to your new boss, so think about how you present the data."
   ]
  },
  {
   "cell_type": "code",
   "execution_count": 140,
   "metadata": {
    "colab": {
     "base_uri": "https://localhost:8080/",
     "height": 504
    },
    "colab_type": "code",
    "id": "CviCyUvqVyjS",
    "outputId": "98ad6aa6-1120-42cc-8c6a-67065571962a"
   },
   "outputs": [
    {
     "name": "stdout",
     "output_type": "stream",
     "text": [
      "('Thoughtmix', 1626805.1600000015)\n",
      "('Twitterbeat', 1325104.0200000033)\n",
      "('Zooxo', 998668.6800647781)\n",
      "('Shufflebeat', 922924.7199999999)\n",
      "('Chatterbridge', 921110.8999999994)\n",
      "('Ntags', 846252.5499999991)\n",
      "('Brainsphere', 720802.9399999991)\n",
      "('Buzzbean', 713758.4299999992)\n",
      "('Flipstorm', 673246.2099999991)\n",
      "('Wordify', 535510.4807126565)\n",
      "('Yozio', 368655.4100000002)\n",
      "('Roodel', 362089.7599999997)\n",
      "('Eimbee', 295001.94999999984)\n",
      "('Zoonder', 263428.6677016085)\n",
      "('Teklist', 241354.28)\n",
      "('Gabcube', 204489.94999999998)\n",
      "('Voomm', 144799.98)\n",
      "('Avaveo', 126505.0700000001)\n",
      "('Lajo', 122119.52999999997)\n",
      "('Rhycero', 112883.34000000004)\n",
      "('Riffpath', 90550.25000000007)\n",
      "('Realpoint', 85333.36999999995)\n",
      "('Kanoodle', 72615.43307126628)\n",
      "('Bubblemix', 27476.052162117077)\n",
      "('Innojam', 25539.63)\n",
      "('Gevee', 22549.16)\n",
      "('Gabtune', 18359.269999999997)\n",
      "('Tagtune', 6579.640000000001)\n",
      "28\n"
     ]
    }
   ],
   "source": [
    "database = r\"C:\\\\Users\\\\PeymanKor\\\\OneDrive - Danmarks Tekniske Universitet\\\\DTU Courses\\\\Computational Tools\\costumer_new.db\"\n",
    "conn = create_connection(database)\n",
    "#Who are the most profitable clients?\n",
    "#Lets short the clients by amount desc\n",
    "cur = conn.cursor()\n",
    "cur.execute(\n",
    "    \"SELECT * FROM (SELECT company, SUM(amount) AS amount FROM transactions GROUP BY company) ORDER BY amount DESC\"\n",
    ")\n",
    "\n",
    "rows = cur.fetchall()\n",
    "for row in rows:\n",
    "    print(row)\n",
    "print(len(rows))\n",
    "\n",
    "conn.commit()\n",
    "conn.close()"
   ]
  },
  {
   "cell_type": "code",
   "execution_count": 127,
   "metadata": {
    "colab": {},
    "colab_type": "code",
    "id": "lgm2ddxgJ5Gs"
   },
   "outputs": [],
   "source": [
    "import matplotlib.pyplot as plt\n",
    "import matplotlib.dates as mdates\n",
    "from dateutil import parser\n",
    "from matplotlib import style"
   ]
  },
  {
   "cell_type": "code",
   "execution_count": 141,
   "metadata": {
    "colab": {
     "base_uri": "https://localhost:8080/",
     "height": 390
    },
    "colab_type": "code",
    "id": "yM6g4wxMJ6qu",
    "outputId": "183fc73a-7cb9-4d7d-ae10-b00fc5e07bf3"
   },
   "outputs": [
    {
     "data": {
      "image/png": "[encoded data removed]",
      "text/plain": [
       "<Figure size 432x288 with 1 Axes>"
      ]
     },
     "metadata": {
      "needs_background": "light"
     },
     "output_type": "display_data"
    }
   ],
   "source": [
    "database = r\"C:\\\\Users\\\\PeymanKor\\\\OneDrive - Danmarks Tekniske Universitet\\\\DTU Courses\\\\Computational Tools\\costumer_new.db\"\n",
    "conn = create_connection(database)\n",
    "\n",
    "#Are there any clients for which profit is declining?\n",
    "cur = conn.cursor()\n",
    "cur.execute(\n",
    "    \"SELECT month, amount FROM (SELECT strftime('%m', date) as month, amount FROM transactions WHERE company='Tagtune' ORDER BY date ASC) GROUP BY month\"\n",
    ")\n",
    "\n",
    "dates = []\n",
    "values = []\n",
    "\n",
    "rows = cur.fetchall()\n",
    "for row in rows:\n",
    "    #print(row)\n",
    "    dates.append(parser.parse(row[0]))\n",
    "    values.append(row[1])\n",
    "\n",
    "plt.plot_date(dates, values, '-')\n",
    "plt.show()\n",
    "\n",
    "conn.commit()\n",
    "conn.close()"
   ]
  },
  {
   "cell_type": "markdown",
   "metadata": {
    "colab_type": "text",
    "id": "uPdOB2EdJ_Dq"
   },
   "source": [
    "---\n",
    "## Part 5: Performance\n",
    "Your boss is very impressed with what you have achieved in less than two weeks, and he would like to take your idea of storing the customer and sales data in a relational database to production. However, John is concerned that the solution will not scale. His experience is telling him that you will see many occurrences of the following queries.\n",
    "\n",
    "- Show all sales to company X between time $t_1$ and time $t_2$\n",
    "- Show the latest X sales in the database\n",
    "- Show total sales per company per day\n",
    "\n",
    "Show that Johns concern is not justified."
   ]
  },
  {
   "cell_type": "code",
   "execution_count": 142,
   "metadata": {
    "colab": {
     "base_uri": "https://localhost:8080/",
     "height": 101
    },
    "colab_type": "code",
    "id": "ZJRWxlepKCVb",
    "outputId": "2be2584a-b35a-4090-e8ed-549beacb3594"
   },
   "outputs": [
    {
     "name": "stdout",
     "output_type": "stream",
     "text": [
      "('17133', '49349-471', 833.06, '2018-12-23', 'Yozio')\n",
      "('17134', '51523-002', 731.64, '2018-12-23', 'Yozio')\n",
      "('17149', '48951-4042', 207.71, '2018-12-23', 'Yozio')\n",
      "('17179', '48951-4042', 61.59, '2018-12-25', 'Yozio')\n",
      "4\n"
     ]
    }
   ],
   "source": [
    "database = r\"C:\\\\Users\\\\PeymanKor\\\\OneDrive - Danmarks Tekniske Universitet\\\\DTU Courses\\\\Computational Tools\\costumer_new.db\"\n",
    "conn = create_connection(database)\n",
    "\n",
    "#Show all sales to company X between time  t1  and time  t2\n",
    "cur = conn.cursor()\n",
    "cur.execute(\n",
    "    \"SELECT * FROM transactions WHERE company='Yozio' AND date>='2018-12-23' AND date<='2018-12-26'\"\n",
    ")\n",
    "\n",
    "rows = cur.fetchall()\n",
    "for row in rows:\n",
    "    print(row)\n",
    "print(len(rows))\n",
    "\n",
    "conn.commit()\n",
    "conn.close()"
   ]
  },
  {
   "cell_type": "code",
   "execution_count": 143,
   "metadata": {
    "colab": {
     "base_uri": "https://localhost:8080/",
     "height": 202
    },
    "colab_type": "code",
    "id": "LtpPW38rKGdd",
    "outputId": "e639b34f-5dda-4826-ca05-9ad0db19633a"
   },
   "outputs": [
    {
     "name": "stdout",
     "output_type": "stream",
     "text": [
      "('17265', '43419-018', 139.56, '2019-05-14', 'Flipstorm')\n",
      "('17264', '49288-0285', 1051.08, '2019-02-21', 'Flipstorm')\n",
      "('17251', '0699-7041', 665.3, '2018-12-31', 'Twitterbeat')\n",
      "('17252', '68180-121', 936.06, '2018-12-31', 'Rhycero')\n",
      "('17253', '51060-032', 378.98, '2018-12-31', 'Buzzbean')\n",
      "('17254', '0268-6107', 477.59, '2018-12-31', 'Thoughtmix')\n",
      "('17255', '68180-121', 637.5, '2018-12-31', 'Twitterbeat')\n",
      "('17256', '13537-259', 762.29, '2018-12-31', 'Thoughtmix')\n",
      "('17257', '36800-952', 286.23, '2018-12-31', 'Gabcube')\n",
      "('17258', '36987-1697', 1017.44, '2018-12-31', 'Chatterbridge')\n",
      "10\n"
     ]
    }
   ],
   "source": [
    "database = r\"C:\\\\Users\\\\PeymanKor\\\\OneDrive - Danmarks Tekniske Universitet\\\\DTU Courses\\\\Computational Tools\\costumer_new.db\"\n",
    "conn = create_connection(database)\n",
    "\n",
    "#Show the latest X sales in the database\n",
    "cur = conn.cursor()\n",
    "cur.execute(\"SELECT * FROM transactions ORDER BY date DESC LIMIT 10\")\n",
    "\n",
    "rows = cur.fetchall()\n",
    "for row in rows:\n",
    "    print(row)\n",
    "print(len(rows))\n",
    "\n",
    "conn.commit()\n",
    "conn.close()"
   ]
  },
  {
   "cell_type": "code",
   "execution_count": 144,
   "metadata": {
    "colab": {
     "base_uri": "https://localhost:8080/",
     "height": 1000
    },
    "colab_type": "code",
    "id": "27jJ20_PKII-",
    "outputId": "d9067a8e-82e8-4f50-9b35-83ca9d7ff15e"
   },
   "outputs": [
    {
     "name": "stdout",
     "output_type": "stream",
     "text": [
      "('Avaveo', '2016-01-03', 1029.92)\n",
      "('Avaveo', '2016-01-06', 687.63)\n",
      "('Avaveo', '2016-01-18', 358.46)\n",
      "('Avaveo', '2016-01-19', 474.35)\n",
      "('Avaveo', '2016-02-01', 138.41)\n",
      "('Avaveo', '2016-02-11', 732.99)\n",
      "('Avaveo', '2016-02-20', 750.87)\n",
      "('Avaveo', '2016-03-07', 383.81)\n",
      "('Avaveo', '2016-03-08', 878.69)\n",
      "('Avaveo', '2016-03-18', 499.3)\n",
      "11681\n"
     ]
    }
   ],
   "source": [
    "database = r\"C:\\\\Users\\\\PeymanKor\\\\OneDrive - Danmarks Tekniske Universitet\\\\DTU Courses\\\\Computational Tools\\costumer_new.db\"\n",
    "conn = create_connection(database)\n",
    "\n",
    "#Show total sales per company per day\n",
    "cur = conn.cursor()\n",
    "cur.execute(\n",
    "    \"SELECT company,DATE(date), SUM(amount) FROM transactions GROUP BY company,DATE(date)\"\n",
    ")\n",
    "\n",
    "rows = cur.fetchall()\n",
    "for row in rows[0:10]:\n",
    "    print(row)\n",
    "print(len(rows))\n",
    "\n",
    "conn.commit()\n",
    "conn.close()"
   ]
  }
 ],
 "metadata": {
  "colab": {
   "collapsed_sections": [],
   "name": "Project1.ipynb",
   "provenance": []
  },
  "kernelspec": {
   "display_name": "Python 3",
   "language": "python",
   "name": "python3"
  },
  "language_info": {
   "codemirror_mode": {
    "name": "ipython",
    "version": 3
   },
   "file_extension": ".py",
   "mimetype": "text/x-python",
   "name": "python",
   "nbconvert_exporter": "python",
   "pygments_lexer": "ipython3",
   "version": "3.7.4"
  },
  "toc": {
   "base_numbering": 1,
   "nav_menu": {},
   "number_sections": true,
   "sideBar": true,
   "skip_h1_title": false,
   "title_cell": "Table of Contents",
   "title_sidebar": "Contents",
   "toc_cell": false,
   "toc_position": {},
   "toc_section_display": true,
   "toc_window_display": true
  }
 },
 "nbformat": 4,
 "nbformat_minor": 1
}
